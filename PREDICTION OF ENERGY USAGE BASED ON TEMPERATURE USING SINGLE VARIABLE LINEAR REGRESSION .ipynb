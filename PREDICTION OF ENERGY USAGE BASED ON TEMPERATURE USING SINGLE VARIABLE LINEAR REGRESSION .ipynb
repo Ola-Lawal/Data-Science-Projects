{
 "cells": [
  {
   "cell_type": "code",
   "execution_count": 3,
   "id": "704c8c50",
   "metadata": {},
   "outputs": [],
   "source": [
    "import pandas as pd\n",
    "import numpy as np\n",
    "from matplotlib import pyplot as plt\n",
    "import seaborn as sns\n",
    "import plotly.express as px\n",
    "import datetime as dt"
   ]
  },
  {
   "cell_type": "code",
   "execution_count": 4,
   "id": "f87093fc",
   "metadata": {},
   "outputs": [
    {
     "data": {
      "text/html": [
       "<div>\n",
       "<style scoped>\n",
       "    .dataframe tbody tr th:only-of-type {\n",
       "        vertical-align: middle;\n",
       "    }\n",
       "\n",
       "    .dataframe tbody tr th {\n",
       "        vertical-align: top;\n",
       "    }\n",
       "\n",
       "    .dataframe thead th {\n",
       "        text-align: right;\n",
       "    }\n",
       "</style>\n",
       "<table border=\"1\" class=\"dataframe\">\n",
       "  <thead>\n",
       "    <tr style=\"text-align: right;\">\n",
       "      <th></th>\n",
       "      <th>LCLid</th>\n",
       "      <th>day</th>\n",
       "      <th>energy_median</th>\n",
       "      <th>energy_mean</th>\n",
       "      <th>energy_max</th>\n",
       "      <th>energy_count</th>\n",
       "      <th>energy_std</th>\n",
       "      <th>energy_sum</th>\n",
       "      <th>energy_min</th>\n",
       "    </tr>\n",
       "  </thead>\n",
       "  <tbody>\n",
       "    <tr>\n",
       "      <th>0</th>\n",
       "      <td>MAC000131</td>\n",
       "      <td>2011-12-15</td>\n",
       "      <td>0.4850</td>\n",
       "      <td>0.432045</td>\n",
       "      <td>0.868</td>\n",
       "      <td>22</td>\n",
       "      <td>0.239146</td>\n",
       "      <td>9.505</td>\n",
       "      <td>0.072</td>\n",
       "    </tr>\n",
       "    <tr>\n",
       "      <th>1</th>\n",
       "      <td>MAC000131</td>\n",
       "      <td>2011-12-16</td>\n",
       "      <td>0.1415</td>\n",
       "      <td>0.296167</td>\n",
       "      <td>1.116</td>\n",
       "      <td>48</td>\n",
       "      <td>0.281471</td>\n",
       "      <td>14.216</td>\n",
       "      <td>0.031</td>\n",
       "    </tr>\n",
       "  </tbody>\n",
       "</table>\n",
       "</div>"
      ],
      "text/plain": [
       "       LCLid        day  energy_median  energy_mean  energy_max  energy_count  \\\n",
       "0  MAC000131 2011-12-15         0.4850     0.432045       0.868            22   \n",
       "1  MAC000131 2011-12-16         0.1415     0.296167       1.116            48   \n",
       "\n",
       "   energy_std  energy_sum  energy_min  \n",
       "0    0.239146       9.505       0.072  \n",
       "1    0.281471      14.216       0.031  "
      ]
     },
     "execution_count": 4,
     "metadata": {},
     "output_type": "execute_result"
    }
   ],
   "source": [
    "energy_data = pd.read_csv(\"/Users/admin/Desktop/Data Analyst - Scientist Career/Data Science - Analytics/Datasets/Energy Consumption in London/daily_dataset.csv\")\n",
    "energy_data[\"day\"]=pd.to_datetime(energy_data[\"day\"])\n",
    "energy_data.replace([np.inf, -np.inf], np.nan, inplace=True)\n",
    "energy_data.dropna()\n",
    "energy_data.head(2)"
   ]
  },
  {
   "cell_type": "markdown",
   "id": "f141e4fe",
   "metadata": {},
   "source": [
    "##### *Originally, there was some cells which are null, dropna() was used to remove these cells as they were very few in number and their removal is less likely to affect the overall analysis*"
   ]
  },
  {
   "cell_type": "code",
   "execution_count": 5,
   "id": "a3adfed8",
   "metadata": {},
   "outputs": [
    {
     "data": {
      "text/html": [
       "<div>\n",
       "<style scoped>\n",
       "    .dataframe tbody tr th:only-of-type {\n",
       "        vertical-align: middle;\n",
       "    }\n",
       "\n",
       "    .dataframe tbody tr th {\n",
       "        vertical-align: top;\n",
       "    }\n",
       "\n",
       "    .dataframe thead th {\n",
       "        text-align: right;\n",
       "    }\n",
       "</style>\n",
       "<table border=\"1\" class=\"dataframe\">\n",
       "  <thead>\n",
       "    <tr style=\"text-align: right;\">\n",
       "      <th></th>\n",
       "      <th>temperatureMax</th>\n",
       "      <th>temperatureMaxTime</th>\n",
       "      <th>windBearing</th>\n",
       "      <th>icon</th>\n",
       "      <th>dewPoint</th>\n",
       "      <th>temperatureMinTime</th>\n",
       "      <th>cloudCover</th>\n",
       "      <th>windSpeed</th>\n",
       "      <th>pressure</th>\n",
       "      <th>apparentTemperatureMinTime</th>\n",
       "      <th>...</th>\n",
       "      <th>sunriseTime</th>\n",
       "      <th>temperatureHighTime</th>\n",
       "      <th>uvIndexTime</th>\n",
       "      <th>summary</th>\n",
       "      <th>temperatureLowTime</th>\n",
       "      <th>apparentTemperatureMin</th>\n",
       "      <th>apparentTemperatureMaxTime</th>\n",
       "      <th>apparentTemperatureLowTime</th>\n",
       "      <th>moonPhase</th>\n",
       "      <th>day</th>\n",
       "    </tr>\n",
       "  </thead>\n",
       "  <tbody>\n",
       "    <tr>\n",
       "      <th>0</th>\n",
       "      <td>11.96</td>\n",
       "      <td>2011-11-11 23:00:00</td>\n",
       "      <td>123</td>\n",
       "      <td>fog</td>\n",
       "      <td>9.40</td>\n",
       "      <td>2011-11-11 07:00:00</td>\n",
       "      <td>0.79</td>\n",
       "      <td>3.88</td>\n",
       "      <td>1016.08</td>\n",
       "      <td>2011-11-11 07:00:00</td>\n",
       "      <td>...</td>\n",
       "      <td>2011-11-11 07:12:14</td>\n",
       "      <td>2011-11-11 19:00:00</td>\n",
       "      <td>2011-11-11 11:00:00</td>\n",
       "      <td>Foggy until afternoon.</td>\n",
       "      <td>2011-11-11 19:00:00</td>\n",
       "      <td>6.48</td>\n",
       "      <td>2011-11-11 23:00:00</td>\n",
       "      <td>2011-11-11 19:00:00</td>\n",
       "      <td>0.52</td>\n",
       "      <td>2011-11-11</td>\n",
       "    </tr>\n",
       "    <tr>\n",
       "      <th>1</th>\n",
       "      <td>8.59</td>\n",
       "      <td>2011-12-11 14:00:00</td>\n",
       "      <td>198</td>\n",
       "      <td>partly-cloudy-day</td>\n",
       "      <td>4.49</td>\n",
       "      <td>2011-12-11 01:00:00</td>\n",
       "      <td>0.56</td>\n",
       "      <td>3.94</td>\n",
       "      <td>1007.71</td>\n",
       "      <td>2011-12-11 02:00:00</td>\n",
       "      <td>...</td>\n",
       "      <td>2011-12-11 07:57:02</td>\n",
       "      <td>2011-12-11 14:00:00</td>\n",
       "      <td>2011-12-11 12:00:00</td>\n",
       "      <td>Partly cloudy throughout the day.</td>\n",
       "      <td>2011-12-12 07:00:00</td>\n",
       "      <td>0.11</td>\n",
       "      <td>2011-12-11 20:00:00</td>\n",
       "      <td>2011-12-12 08:00:00</td>\n",
       "      <td>0.53</td>\n",
       "      <td>2011-12-11</td>\n",
       "    </tr>\n",
       "  </tbody>\n",
       "</table>\n",
       "<p>2 rows × 33 columns</p>\n",
       "</div>"
      ],
      "text/plain": [
       "   temperatureMax   temperatureMaxTime  windBearing               icon  \\\n",
       "0           11.96  2011-11-11 23:00:00          123                fog   \n",
       "1            8.59  2011-12-11 14:00:00          198  partly-cloudy-day   \n",
       "\n",
       "   dewPoint   temperatureMinTime  cloudCover  windSpeed  pressure  \\\n",
       "0      9.40  2011-11-11 07:00:00        0.79       3.88   1016.08   \n",
       "1      4.49  2011-12-11 01:00:00        0.56       3.94   1007.71   \n",
       "\n",
       "  apparentTemperatureMinTime  ...          sunriseTime  temperatureHighTime  \\\n",
       "0        2011-11-11 07:00:00  ...  2011-11-11 07:12:14  2011-11-11 19:00:00   \n",
       "1        2011-12-11 02:00:00  ...  2011-12-11 07:57:02  2011-12-11 14:00:00   \n",
       "\n",
       "           uvIndexTime                            summary  \\\n",
       "0  2011-11-11 11:00:00             Foggy until afternoon.   \n",
       "1  2011-12-11 12:00:00  Partly cloudy throughout the day.   \n",
       "\n",
       "    temperatureLowTime  apparentTemperatureMin  apparentTemperatureMaxTime  \\\n",
       "0  2011-11-11 19:00:00                    6.48         2011-11-11 23:00:00   \n",
       "1  2011-12-12 07:00:00                    0.11         2011-12-11 20:00:00   \n",
       "\n",
       "   apparentTemperatureLowTime moonPhase        day  \n",
       "0         2011-11-11 19:00:00      0.52 2011-11-11  \n",
       "1         2011-12-12 08:00:00      0.53 2011-12-11  \n",
       "\n",
       "[2 rows x 33 columns]"
      ]
     },
     "execution_count": 5,
     "metadata": {},
     "output_type": "execute_result"
    }
   ],
   "source": [
    "weather_data = pd.read_csv(\"/Users/admin/Desktop/Data Analyst - Scientist Career/Data Science - Analytics/Datasets/Energy Consumption in London/weather_daily_darksky.csv\")\n",
    "weather_data['day']=  pd.to_datetime(weather_data['time']) # day is given as timestamp\n",
    "weather_data.replace([np.inf, -np.inf], np.nan, inplace=True)\n",
    "weather_data.dropna()\n",
    "weather_data.head(2)"
   ]
  },
  {
   "cell_type": "code",
   "execution_count": 26,
   "id": "39caf736",
   "metadata": {},
   "outputs": [
    {
     "data": {
      "text/html": [
       "<div>\n",
       "<style scoped>\n",
       "    .dataframe tbody tr th:only-of-type {\n",
       "        vertical-align: middle;\n",
       "    }\n",
       "\n",
       "    .dataframe tbody tr th {\n",
       "        vertical-align: top;\n",
       "    }\n",
       "\n",
       "    .dataframe thead th {\n",
       "        text-align: right;\n",
       "    }\n",
       "</style>\n",
       "<table border=\"1\" class=\"dataframe\">\n",
       "  <thead>\n",
       "    <tr style=\"text-align: right;\">\n",
       "      <th></th>\n",
       "      <th>index</th>\n",
       "      <th>LCLid</th>\n",
       "      <th>day</th>\n",
       "      <th>energy_mean</th>\n",
       "      <th>temperatureMax</th>\n",
       "      <th>temperatureMin</th>\n",
       "    </tr>\n",
       "  </thead>\n",
       "  <tbody>\n",
       "    <tr>\n",
       "      <th>0</th>\n",
       "      <td>0</td>\n",
       "      <td>MAC000155</td>\n",
       "      <td>2011-11-23</td>\n",
       "      <td>0.421864</td>\n",
       "      <td>10.36</td>\n",
       "      <td>3.81</td>\n",
       "    </tr>\n",
       "    <tr>\n",
       "      <th>1</th>\n",
       "      <td>1</td>\n",
       "      <td>MAC000152</td>\n",
       "      <td>2011-11-23</td>\n",
       "      <td>0.248708</td>\n",
       "      <td>10.36</td>\n",
       "      <td>3.81</td>\n",
       "    </tr>\n",
       "  </tbody>\n",
       "</table>\n",
       "</div>"
      ],
      "text/plain": [
       "   index      LCLid        day  energy_mean  temperatureMax  temperatureMin\n",
       "0      0  MAC000155 2011-11-23     0.421864           10.36            3.81\n",
       "1      1  MAC000152 2011-11-23     0.248708           10.36            3.81"
      ]
     },
     "execution_count": 26,
     "metadata": {},
     "output_type": "execute_result"
    }
   ],
   "source": [
    "energy_by_weather=energy_data.merge(weather_data, on=\"day\")\n",
    "energy_by_weather = energy_by_weather.sort_values(by=\"day\").reset_index()\n",
    "energy_by_weather= energy_by_weather.drop([\"index\", \"icon\", \"precipType\", \"energy_median\",\"pressure\",\"cloudCover\",\"windSpeed\",\"uvIndex\", \"humidity\", \"windBearing\",\"apparentTemperatureMinTime\",\"apparentTemperatureHigh\",\"visibility\", \"energy_std\",\"temperatureMinTime\",\"dewPoint\", \"temperatureMaxTime\",\"apparentTemperatureHighTime\",\"apparentTemperatureLow\",\"apparentTemperatureMax\" ,\"time\",\"sunsetTime\",\"temperatureHigh\",\"sunriseTime\",\"temperatureLow\",\"energy_sum\", \"energy_count\", \"energy_max\", \"energy_min\", \"temperatureHighTime\", \"uvIndexTime\", \"summary\", \"temperatureLowTime\", \"apparentTemperatureMin\", \"apparentTemperatureMaxTime\", \"apparentTemperatureLowTime\", \"moonPhase\"], axis =1).reset_index()\n",
    "energy_by_weather.head(2) "
   ]
  },
  {
   "cell_type": "code",
   "execution_count": 7,
   "id": "7ee05dfd",
   "metadata": {},
   "outputs": [
    {
     "name": "stdout",
     "output_type": "stream",
     "text": [
      "Number of missing values in energy_mean: 28\n"
     ]
    }
   ],
   "source": [
    "missing_values = energy_by_weather['energy_mean'].isna().sum()\n",
    "print(\"Number of missing values in energy_mean:\", missing_values)\n",
    "energy_by_weather.dropna(subset=['energy_mean'], inplace=True)"
   ]
  },
  {
   "cell_type": "code",
   "execution_count": 8,
   "id": "f8b4c0b8",
   "metadata": {},
   "outputs": [],
   "source": [
    "energy_by_weather.dropna(subset=['energy_mean'], inplace=True)"
   ]
  },
  {
   "cell_type": "markdown",
   "id": "82362f32",
   "metadata": {},
   "source": [
    "### Assumption\n",
    "\n",
    "1. The maximum and minimum temperature will be grouped into range of values to allow for better visualization.\n",
    "2. Due to the very large dataset, We will plot the grouped maximum and minimum temperature against a range of energy mean to check for the correlation using a boxplot visualization. \n",
    "3. We assume the maximum and minimum temperature that falls in this range of energy_mean has similar correllation with energy_mean has the values outisde of these range."
   ]
  },
  {
   "cell_type": "code",
   "execution_count": 9,
   "id": "57d0e341",
   "metadata": {},
   "outputs": [
    {
     "data": {
      "text/html": [
       "<div>\n",
       "<style scoped>\n",
       "    .dataframe tbody tr th:only-of-type {\n",
       "        vertical-align: middle;\n",
       "    }\n",
       "\n",
       "    .dataframe tbody tr th {\n",
       "        vertical-align: top;\n",
       "    }\n",
       "\n",
       "    .dataframe thead th {\n",
       "        text-align: right;\n",
       "    }\n",
       "</style>\n",
       "<table border=\"1\" class=\"dataframe\">\n",
       "  <thead>\n",
       "    <tr style=\"text-align: right;\">\n",
       "      <th></th>\n",
       "      <th>index</th>\n",
       "      <th>LCLid</th>\n",
       "      <th>day</th>\n",
       "      <th>energy_mean</th>\n",
       "      <th>temperatureMax</th>\n",
       "      <th>temperatureMin</th>\n",
       "      <th>energy_mean_category</th>\n",
       "      <th>temperatureMax_category</th>\n",
       "      <th>temperatureMin_category</th>\n",
       "    </tr>\n",
       "  </thead>\n",
       "  <tbody>\n",
       "    <tr>\n",
       "      <th>0</th>\n",
       "      <td>0</td>\n",
       "      <td>MAC000155</td>\n",
       "      <td>2011-11-23</td>\n",
       "      <td>0.421864</td>\n",
       "      <td>10.36</td>\n",
       "      <td>3.81</td>\n",
       "      <td>Low</td>\n",
       "      <td>Medium</td>\n",
       "      <td>Medium</td>\n",
       "    </tr>\n",
       "    <tr>\n",
       "      <th>1</th>\n",
       "      <td>1</td>\n",
       "      <td>MAC000152</td>\n",
       "      <td>2011-11-23</td>\n",
       "      <td>0.248708</td>\n",
       "      <td>10.36</td>\n",
       "      <td>3.81</td>\n",
       "      <td>Low</td>\n",
       "      <td>Medium</td>\n",
       "      <td>Medium</td>\n",
       "    </tr>\n",
       "    <tr>\n",
       "      <th>2</th>\n",
       "      <td>2</td>\n",
       "      <td>MAC000153</td>\n",
       "      <td>2011-11-23</td>\n",
       "      <td>0.904250</td>\n",
       "      <td>10.36</td>\n",
       "      <td>3.81</td>\n",
       "      <td>Low</td>\n",
       "      <td>Medium</td>\n",
       "      <td>Medium</td>\n",
       "    </tr>\n",
       "    <tr>\n",
       "      <th>3</th>\n",
       "      <td>3</td>\n",
       "      <td>MAC000156</td>\n",
       "      <td>2011-11-23</td>\n",
       "      <td>0.296500</td>\n",
       "      <td>10.36</td>\n",
       "      <td>3.81</td>\n",
       "      <td>Low</td>\n",
       "      <td>Medium</td>\n",
       "      <td>Medium</td>\n",
       "    </tr>\n",
       "    <tr>\n",
       "      <th>4</th>\n",
       "      <td>4</td>\n",
       "      <td>MAC000147</td>\n",
       "      <td>2011-11-23</td>\n",
       "      <td>0.108429</td>\n",
       "      <td>10.36</td>\n",
       "      <td>3.81</td>\n",
       "      <td>Low</td>\n",
       "      <td>Medium</td>\n",
       "      <td>Medium</td>\n",
       "    </tr>\n",
       "  </tbody>\n",
       "</table>\n",
       "</div>"
      ],
      "text/plain": [
       "   index      LCLid        day  energy_mean  temperatureMax  temperatureMin  \\\n",
       "0      0  MAC000155 2011-11-23     0.421864           10.36            3.81   \n",
       "1      1  MAC000152 2011-11-23     0.248708           10.36            3.81   \n",
       "2      2  MAC000153 2011-11-23     0.904250           10.36            3.81   \n",
       "3      3  MAC000156 2011-11-23     0.296500           10.36            3.81   \n",
       "4      4  MAC000147 2011-11-23     0.108429           10.36            3.81   \n",
       "\n",
       "  energy_mean_category temperatureMax_category temperatureMin_category  \n",
       "0                  Low                  Medium                  Medium  \n",
       "1                  Low                  Medium                  Medium  \n",
       "2                  Low                  Medium                  Medium  \n",
       "3                  Low                  Medium                  Medium  \n",
       "4                  Low                  Medium                  Medium  "
      ]
     },
     "execution_count": 9,
     "metadata": {},
     "output_type": "execute_result"
    }
   ],
   "source": [
    "#The energy_mean column is grouped into low, medium and high category\n",
    "bins = np.linspace(min(energy_by_weather[\"energy_mean\"]), max(energy_by_weather[\"energy_mean\"]),4)\n",
    "group_names = [\"Low\", \"Medium\", \"High\"]\n",
    "energy_by_weather[\"energy_mean_category\"] = pd.cut(energy_by_weather[\"energy_mean\"], bins, labels=group_names, include_lowest=True)\n",
    "\n",
    "bins = np.linspace(min(energy_by_weather[\"temperatureMax\"]), max(energy_by_weather[\"temperatureMax\"]),4)\n",
    "group_names = [\"Low\", \"Medium\", \"High\"]\n",
    "energy_by_weather[\"temperatureMax_category\"] = pd.cut(energy_by_weather[\"temperatureMax\"], bins, labels=group_names, include_lowest=True)\n",
    "\n",
    "bins = np.linspace(min(energy_by_weather[\"temperatureMin\"]), max(energy_by_weather[\"temperatureMin\"]),4)\n",
    "group_names = [\"Low\", \"Medium\", \"High\"]\n",
    "energy_by_weather[\"temperatureMin_category\"] = pd.cut(energy_by_weather[\"temperatureMin\"], bins, labels=group_names, include_lowest=True)\n",
    "#Checking a sample of the data\n",
    "energy_by_weather.head(5)"
   ]
  },
  {
   "cell_type": "code",
   "execution_count": 10,
   "id": "f6ee10dd",
   "metadata": {},
   "outputs": [
    {
     "data": {
      "text/html": [
       "<div>\n",
       "<style scoped>\n",
       "    .dataframe tbody tr th:only-of-type {\n",
       "        vertical-align: middle;\n",
       "    }\n",
       "\n",
       "    .dataframe tbody tr th {\n",
       "        vertical-align: top;\n",
       "    }\n",
       "\n",
       "    .dataframe thead th {\n",
       "        text-align: right;\n",
       "    }\n",
       "</style>\n",
       "<table border=\"1\" class=\"dataframe\">\n",
       "  <thead>\n",
       "    <tr style=\"text-align: right;\">\n",
       "      <th></th>\n",
       "      <th>LCLid</th>\n",
       "      <th>day</th>\n",
       "      <th>energy_mean</th>\n",
       "      <th>energy_mean_category</th>\n",
       "      <th>temperatureMax</th>\n",
       "      <th>temperatureMax_category</th>\n",
       "      <th>temperatureMin</th>\n",
       "      <th>temperatureMin_category</th>\n",
       "      <th>icon</th>\n",
       "    </tr>\n",
       "  </thead>\n",
       "  <tbody>\n",
       "    <tr>\n",
       "      <th>0</th>\n",
       "      <td>MAC000155</td>\n",
       "      <td>2011-11-23</td>\n",
       "      <td>0.421864</td>\n",
       "      <td>Low</td>\n",
       "      <td>10.36</td>\n",
       "      <td>Medium</td>\n",
       "      <td>3.81</td>\n",
       "      <td>Medium</td>\n",
       "      <td>NaN</td>\n",
       "    </tr>\n",
       "    <tr>\n",
       "      <th>1</th>\n",
       "      <td>MAC000152</td>\n",
       "      <td>2011-11-23</td>\n",
       "      <td>0.248708</td>\n",
       "      <td>Low</td>\n",
       "      <td>10.36</td>\n",
       "      <td>Medium</td>\n",
       "      <td>3.81</td>\n",
       "      <td>Medium</td>\n",
       "      <td>NaN</td>\n",
       "    </tr>\n",
       "  </tbody>\n",
       "</table>\n",
       "</div>"
      ],
      "text/plain": [
       "       LCLid        day  energy_mean energy_mean_category  temperatureMax  \\\n",
       "0  MAC000155 2011-11-23     0.421864                  Low           10.36   \n",
       "1  MAC000152 2011-11-23     0.248708                  Low           10.36   \n",
       "\n",
       "  temperatureMax_category  temperatureMin temperatureMin_category  icon  \n",
       "0                  Medium            3.81                  Medium   NaN  \n",
       "1                  Medium            3.81                  Medium   NaN  "
      ]
     },
     "execution_count": 10,
     "metadata": {},
     "output_type": "execute_result"
    }
   ],
   "source": [
    "#rearranging the columns\n",
    "cols = [\"LCLid\", \"day\",\"energy_mean\", \"energy_mean_category\", \"temperatureMax\",\"temperatureMax_category\",\"temperatureMin\", \"temperatureMin_category\", \"icon\"]\n",
    "energy_by_weather = energy_by_weather.reindex(cols, axis=1)\n",
    "energy_by_weather.dropna()\n",
    "energy_by_weather.head(2)"
   ]
  },
  {
   "cell_type": "code",
   "execution_count": 11,
   "id": "f6694726",
   "metadata": {},
   "outputs": [
    {
     "data": {
      "text/plain": [
       "(0.0, 1.0)"
      ]
     },
     "execution_count": 11,
     "metadata": {},
     "output_type": "execute_result"
    },
    {
     "data": {
      "image/png": "[encoded data removed]",
      "text/plain": [
       "<Figure size 800x400 with 2 Axes>"
      ]
     },
     "metadata": {},
     "output_type": "display_data"
    }
   ],
   "source": [
    "#ploting a graph\n",
    "figures, axs=plt.subplots(1,2, figsize=(8, 4))\n",
    "fig1 = sns.boxplot(data=energy_by_weather, x=\"temperatureMax_category\", y=\"energy_mean\", fliersize=0, ax=axs[0])\n",
    "fig2 = sns.boxplot(data=energy_by_weather, x=\"temperatureMin_category\", y=\"energy_mean\", fliersize=0, ax=axs[1])\n",
    "fig1.set_ylim(0,  1)\n",
    "fig2.set_ylim(0,  1)"
   ]
  },
  {
   "cell_type": "markdown",
   "id": "a67681a3",
   "metadata": {},
   "source": [
    "Following the principle of multi-colinearity, it is assumed that both temperatureMax and temperatureMin have similar correlation with energy mean hence we can choose to use either temperatureMax or temperatureMin for our modelling."
   ]
  },
  {
   "cell_type": "markdown",
   "id": "74900313",
   "metadata": {},
   "source": [
    "## Performing Regression Analysis on the data.\n",
    "\n",
    "1. The model will be built to predict energy_mean based the observed temperature.\n",
    "2. Taking Y-variables as the dependent variable (Outcome Variable): \n",
    "   - energy_mean\n",
    "3. Taking x-variables as the independent variable (Predictor variable):  \n",
    "    -temperature\n",
    "\n",
    "Formula = [ Y = B0 + B1X]\n",
    "\n",
    "Where B0 = Intercept,\n",
    "      B1 = Slope"
   ]
  },
  {
   "cell_type": "code",
   "execution_count": 12,
   "id": "1ac68196",
   "metadata": {},
   "outputs": [],
   "source": [
    "from sklearn import linear_model"
   ]
  },
  {
   "cell_type": "code",
   "execution_count": 17,
   "id": "b7148311",
   "metadata": {},
   "outputs": [
    {
     "data": {
      "text/html": [
       "<style>#sk-container-id-2 {color: black;}#sk-container-id-2 pre{padding: 0;}#sk-container-id-2 div.sk-toggleable {background-color: white;}#sk-container-id-2 label.sk-toggleable__label {cursor: pointer;display: block;width: 100%;margin-bottom: 0;padding: 0.3em;box-sizing: border-box;text-align: center;}#sk-container-id-2 label.sk-toggleable__label-arrow:before {content: \"▸\";float: left;margin-right: 0.25em;color: #696969;}#sk-container-id-2 label.sk-toggleable__label-arrow:hover:before {color: black;}#sk-container-id-2 div.sk-estimator:hover label.sk-toggleable__label-arrow:before {color: black;}#sk-container-id-2 div.sk-toggleable__content {max-height: 0;max-width: 0;overflow: hidden;text-align: left;background-color: #f0f8ff;}#sk-container-id-2 div.sk-toggleable__content pre {margin: 0.2em;color: black;border-radius: 0.25em;background-color: #f0f8ff;}#sk-container-id-2 input.sk-toggleable__control:checked~div.sk-toggleable__content {max-height: 200px;max-width: 100%;overflow: auto;}#sk-container-id-2 input.sk-toggleable__control:checked~label.sk-toggleable__label-arrow:before {content: \"▾\";}#sk-container-id-2 div.sk-estimator input.sk-toggleable__control:checked~label.sk-toggleable__label {background-color: #d4ebff;}#sk-container-id-2 div.sk-label input.sk-toggleable__control:checked~label.sk-toggleable__label {background-color: #d4ebff;}#sk-container-id-2 input.sk-hidden--visually {border: 0;clip: rect(1px 1px 1px 1px);clip: rect(1px, 1px, 1px, 1px);height: 1px;margin: -1px;overflow: hidden;padding: 0;position: absolute;width: 1px;}#sk-container-id-2 div.sk-estimator {font-family: monospace;background-color: #f0f8ff;border: 1px dotted black;border-radius: 0.25em;box-sizing: border-box;margin-bottom: 0.5em;}#sk-container-id-2 div.sk-estimator:hover {background-color: #d4ebff;}#sk-container-id-2 div.sk-parallel-item::after {content: \"\";width: 100%;border-bottom: 1px solid gray;flex-grow: 1;}#sk-container-id-2 div.sk-label:hover label.sk-toggleable__label {background-color: #d4ebff;}#sk-container-id-2 div.sk-serial::before {content: \"\";position: absolute;border-left: 1px solid gray;box-sizing: border-box;top: 0;bottom: 0;left: 50%;z-index: 0;}#sk-container-id-2 div.sk-serial {display: flex;flex-direction: column;align-items: center;background-color: white;padding-right: 0.2em;padding-left: 0.2em;position: relative;}#sk-container-id-2 div.sk-item {position: relative;z-index: 1;}#sk-container-id-2 div.sk-parallel {display: flex;align-items: stretch;justify-content: center;background-color: white;position: relative;}#sk-container-id-2 div.sk-item::before, #sk-container-id-2 div.sk-parallel-item::before {content: \"\";position: absolute;border-left: 1px solid gray;box-sizing: border-box;top: 0;bottom: 0;left: 50%;z-index: -1;}#sk-container-id-2 div.sk-parallel-item {display: flex;flex-direction: column;z-index: 1;position: relative;background-color: white;}#sk-container-id-2 div.sk-parallel-item:first-child::after {align-self: flex-end;width: 50%;}#sk-container-id-2 div.sk-parallel-item:last-child::after {align-self: flex-start;width: 50%;}#sk-container-id-2 div.sk-parallel-item:only-child::after {width: 0;}#sk-container-id-2 div.sk-dashed-wrapped {border: 1px dashed gray;margin: 0 0.4em 0.5em 0.4em;box-sizing: border-box;padding-bottom: 0.4em;background-color: white;}#sk-container-id-2 div.sk-label label {font-family: monospace;font-weight: bold;display: inline-block;line-height: 1.2em;}#sk-container-id-2 div.sk-label-container {text-align: center;}#sk-container-id-2 div.sk-container {/* jupyter's `normalize.less` sets `[hidden] { display: none; }` but bootstrap.min.css set `[hidden] { display: none !important; }` so we also need the `!important` here to be able to override the default hidden behavior on the sphinx rendered scikit-learn.org. See: https://github.com/scikit-learn/scikit-learn/issues/21755 */display: inline-block !important;position: relative;}#sk-container-id-2 div.sk-text-repr-fallback {display: none;}</style><div id=\"sk-container-id-2\" class=\"sk-top-container\"><div class=\"sk-text-repr-fallback\"><pre>LinearRegression()</pre><b>In a Jupyter environment, please rerun this cell to show the HTML representation or trust the notebook. <br />On GitHub, the HTML representation is unable to render, please try loading this page with nbviewer.org.</b></div><div class=\"sk-container\" hidden><div class=\"sk-item\"><div class=\"sk-estimator sk-toggleable\"><input class=\"sk-toggleable__control sk-hidden--visually\" id=\"sk-estimator-id-2\" type=\"checkbox\" checked><label for=\"sk-estimator-id-2\" class=\"sk-toggleable__label sk-toggleable__label-arrow\">LinearRegression</label><div class=\"sk-toggleable__content\"><pre>LinearRegression()</pre></div></div></div></div></div>"
      ],
      "text/plain": [
       "LinearRegression()"
      ]
     },
     "execution_count": 17,
     "metadata": {},
     "output_type": "execute_result"
    }
   ],
   "source": [
    "reg = linear_model.LinearRegression()\n",
    "reg.fit(energy_by_weather[[\"temperatureMax\"]], energy_by_weather['energy_mean'])"
   ]
  },
  {
   "cell_type": "code",
   "execution_count": 18,
   "id": "4334d1ee",
   "metadata": {},
   "outputs": [
    {
     "name": "stdout",
     "output_type": "stream",
     "text": [
      "[0.32273435]\n"
     ]
    }
   ],
   "source": [
    "import pandas as pd\n",
    "\n",
    "# Create a DataFrame with a column named 'temperatureMax' containing the input data\n",
    "new_data = pd.DataFrame({'temperatureMax': [-10]})\n",
    "\n",
    "# Use the predict method with the DataFrame\n",
    "predictions = reg.predict(new_data)\n",
    "print(predictions)"
   ]
  },
  {
   "cell_type": "code",
   "execution_count": 21,
   "id": "a7c236db",
   "metadata": {},
   "outputs": [
    {
     "name": "stderr",
     "output_type": "stream",
     "text": [
      "/Users/admin/anaconda3/lib/python3.11/site-packages/sklearn/base.py:464: UserWarning: X does not have valid feature names, but LinearRegression was fitted with feature names\n",
      "  warnings.warn(\n"
     ]
    },
    {
     "data": {
      "text/plain": [
       "0.0035906198905650832"
      ]
     },
     "execution_count": 21,
     "metadata": {},
     "output_type": "execute_result"
    }
   ],
   "source": [
    "x = energy_by_weather[\"temperatureMax\"].values.reshape(-1, 1)\n",
    "y = energy_by_weather[\"energy_mean\"]\n",
    "reg.score(x, y)"
   ]
  },
  {
   "cell_type": "markdown",
   "id": "5ce0bd2e",
   "metadata": {},
   "source": [
    "### This predictive model can be used to predict the energy usage at any given temperature value.\n",
    "\n",
    "The R-squared score typically ranges between 0 and 1, where 1 indicates a perfect fit to the data, and values closer to 0 suggest that the model doesn't explain much of the variance in the data. In this case, the R-squared score is quite low, indicating that the linear regression model may not be a good fit for the data, or there might be other factors affecting the relationship between the \"temperatureMax\" feature and the \"energy_mean\" target variable that the model is not capturing. It might be better to explore other modeling approaches or consider if additional features could improve the model's performance."
   ]
  },
  {
   "cell_type": "code",
   "execution_count": 16,
   "id": "209e3d70",
   "metadata": {},
   "outputs": [],
   "source": []
  },
  {
   "cell_type": "code",
   "execution_count": null,
   "id": "983392f1",
   "metadata": {},
   "outputs": [],
   "source": []
  }
 ],
 "metadata": {
  "kernelspec": {
   "display_name": "Python 3 (ipykernel)",
   "language": "python",
   "name": "python3"
  },
  "language_info": {
   "codemirror_mode": {
    "name": "ipython",
    "version": 3
   },
   "file_extension": ".py",
   "mimetype": "text/x-python",
   "name": "python",
   "nbconvert_exporter": "python",
   "pygments_lexer": "ipython3",
   "version": "3.11.4"
  }
 },
 "nbformat": 4,
 "nbformat_minor": 5
}
