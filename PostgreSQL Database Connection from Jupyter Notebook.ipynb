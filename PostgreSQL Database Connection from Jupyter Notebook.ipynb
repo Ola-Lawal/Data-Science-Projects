{
 "cells": [
  {
   "cell_type": "code",
   "execution_count": 15,
   "id": "86c40e92",
   "metadata": {},
   "outputs": [],
   "source": [
    "#pip install psycopg2"
   ]
  },
  {
   "cell_type": "code",
   "execution_count": 1,
   "id": "af7bd9b0",
   "metadata": {},
   "outputs": [],
   "source": [
    "import pandas as pd"
   ]
  },
  {
   "cell_type": "code",
   "execution_count": 2,
   "id": "b7e5022e",
   "metadata": {},
   "outputs": [],
   "source": [
    "data = pd.read_csv(\"/Users/admin/Desktop/Data Analyst - Scientist Career/Data Science - Analytics/Datasets/Energy Consumption in London/daily_dataset.csv\")\n",
    "df = pd.DataFrame(data)\n",
    "df[\"day\"] = pd.to_datetime(df[\"day\"])"
   ]
  },
  {
   "cell_type": "code",
   "execution_count": 3,
   "id": "83173b28",
   "metadata": {},
   "outputs": [],
   "source": [
    "import psycopg2 as psy\n",
    "\n",
    "conn = psy.connect(\n",
    "   database=\"postgres\", user='postgres', password='password', host='127.0.0.1', port= '5432'\n",
    ")\n",
    "conn.autocommit = True\n",
    "\n",
    "#Creating a cursor object using the cursor() method\n",
    "cursor = conn.cursor()"
   ]
  },
  {
   "cell_type": "code",
   "execution_count": null,
   "id": "d56133e0",
   "metadata": {},
   "outputs": [],
   "source": [
    "### How to create and import a table to database on postgresql\n",
    "\n",
    "import psycopg2 as psy\n",
    "\n",
    "conn = psy.connect(\n",
    "   database=\"postgres\", user='postgres', password='password', host='127.0.0.1', port= '5432'\n",
    ")\n",
    "conn.autocommit = True\n",
    "\n",
    "#Creating a cursor object using the cursor() method\n",
    "cursor = conn.cursor()\n",
    "\n",
    "cursor.execute(\"DROP TABLE IF EXISTS daily_energy\")\n",
    "\n",
    "#Creating table as per requirement\n",
    "sql ='''CREATE TABLE daily_energy\n",
    "( LCLid         VARCHAR(255),\n",
    "  usage_day     DATE,\n",
    "  energy_median FLOAT(6),\n",
    "  energy_mean   FLOAT(6),\n",
    "  energy_max    FLOAT(6),\n",
    "  energy_count  FLOAT(6),\n",
    "  energy_std    FLOAT(6),\n",
    "  energy_sum    FLOAT(6),\n",
    "  energy_min    FLOAT(6)\n",
    ")'''\n",
    "cursor.execute(sql)\n",
    "\n",
    "### Inserting the dataframe into the tables created above\n",
    "\n",
    "for row in df.itertuples():\n",
    "    cursor.execute('''\n",
    "                INSERT INTO daily_energy (LCLid, \n",
    "                usage_day,\n",
    "                energy_median, \n",
    "                energy_mean, \n",
    "                energy_max,\n",
    "                energy_count,\n",
    "                energy_std,\n",
    "                energy_sum, \n",
    "                energy_min )\n",
    "                VALUES (%s, %s, %s, %s, %s, %s, %s, %s, %s)\n",
    "                ''',\n",
    "                (row.LCLid, \n",
    "                row.day,\n",
    "                row.energy_median, \n",
    "                row.energy_mean, \n",
    "                row.energy_max,\n",
    "                row.energy_count,\n",
    "                row.energy_std,\n",
    "                row.energy_sum, \n",
    "                row.energy_min ))\n",
    "    \n",
    "    print (\"record inserted\")\n",
    "    \n",
    "conn.commit()\n",
    "#Closing the connection\n",
    "conn.close()"
   ]
  },
  {
   "cell_type": "code",
   "execution_count": 4,
   "id": "d4c549c8",
   "metadata": {},
   "outputs": [
    {
     "name": "stdout",
     "output_type": "stream",
     "text": [
      "('MAC000131', datetime.date(2011, 12, 15), 0.485, 0.43204546, 0.868, 22.0, 0.2391458, 9.505, 0.072)\n",
      "('MAC000131', datetime.date(2011, 12, 16), 0.1415, 0.29616666, 1.116, 48.0, 0.2814713, 14.216001, 0.031)\n",
      "('MAC000131', datetime.date(2011, 12, 17), 0.1015, 0.1898125, 0.685, 48.0, 0.18840468, 9.111, 0.064)\n",
      "('MAC000131', datetime.date(2011, 12, 18), 0.114, 0.21897916, 0.676, 48.0, 0.20291927, 10.511, 0.065)\n",
      "('MAC000131', datetime.date(2011, 12, 19), 0.191, 0.32597917, 0.788, 48.0, 0.25920495, 15.647, 0.066)\n"
     ]
    }
   ],
   "source": [
    "### Execute the Query and print the result\n",
    "\n",
    "sql = '''SELECT * FROM daily_energy LIMIT 5'''\n",
    "cursor.execute(sql)\n",
    "\n",
    "### Fetch and print the results\n",
    "results = cursor.fetchall()\n",
    "for row in results:\n",
    "    print(row)"
   ]
  },
  {
   "cell_type": "code",
   "execution_count": null,
   "id": "d12a1903",
   "metadata": {},
   "outputs": [],
   "source": []
  },
  {
   "cell_type": "code",
   "execution_count": null,
   "id": "f8f14e71",
   "metadata": {},
   "outputs": [],
   "source": []
  },
  {
   "cell_type": "code",
   "execution_count": null,
   "id": "9b30f95f",
   "metadata": {},
   "outputs": [],
   "source": [
    "conn.close()"
   ]
  }
 ],
 "metadata": {
  "kernelspec": {
   "display_name": "Python 3 (ipykernel)",
   "language": "python",
   "name": "python3"
  },
  "language_info": {
   "codemirror_mode": {
    "name": "ipython",
    "version": 3
   },
   "file_extension": ".py",
   "mimetype": "text/x-python",
   "name": "python",
   "nbconvert_exporter": "python",
   "pygments_lexer": "ipython3",
   "version": "3.11.4"
  }
 },
 "nbformat": 4,
 "nbformat_minor": 5
}
