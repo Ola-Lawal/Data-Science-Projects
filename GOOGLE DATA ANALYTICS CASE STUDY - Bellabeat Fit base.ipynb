{
 "cells": [
  {
   "cell_type": "markdown",
   "id": "99c9c3dd",
   "metadata": {},
   "source": [
    "## ABOUT THE DATA TO BE ANALYZED"
   ]
  },
  {
   "cell_type": "markdown",
   "id": "128cdf90",
   "metadata": {},
   "source": [
    "### BELLABEAT PRODUCTS AND ANALYSIS\n",
    "\n",
    "#### Characters and products\n",
    "\n",
    "##### Characters\n",
    "\n",
    "- Urška Sršen: Bellabeat’s cofounder and Chief Creative Officer  \n",
    "- Sando Mur: Mathematician and Bellabeat’s cofounder; key member of the Bellabeat executive team \n",
    "- Bellabeat marketing analytics team: A team of data analysts responsible for collecting, analyzing, and reporting data that helps guide Bellabeat’s marketing strategy. You joined this team six months ago and have been busy learning about Bellabeat’’s mission and business goals — as well as how you, as a junior data analyst, can help Bellabeat achieve them.\n",
    "\n",
    "##### Products\n",
    "\n",
    "- Bellabeat app: The Bellabeat app provides users with health data related to their activity, sleep, stress, menstrual cycle,    and mindfulness habits. This data can help users better understand their current habits and make healthy decisions. The Bellabeat app connects to their line of smart wellness products.  \n",
    "- Leaf: Bellabeat’s classic wellness tracker can be worn as a bracelet, necklace, or clip. The Leaf tracker connects to the Bellabeat app to track activity, sleep, and stress.  \n",
    "- Time: This wellness watch combines the timeless look of a classic timepiece with smart technology to track user activity, sleep, and stress. The Time watch connects to the Bellabeat app to provide you with insights into your daily wellness.  \n",
    "- Spring: This is a water bottle that tracks daily water intake using smart technology to ensure that you are appropriately hydrated throughout the day. The Spring bottle connects to the Bellabeat app to track your hydration levels.  \n",
    "- Bellabeat membership: Bellabeat also offers a subscription-based membership program for users. Membership gives users 24/7 access to fully personalized guidance on nutrition, activity, sleep, health and beauty, and mindfulness based on their lifestyle and goals."
   ]
  },
  {
   "cell_type": "markdown",
   "id": "de566ad1",
   "metadata": {},
   "source": [
    "### Key tasks\n",
    "\n",
    "  1. Identify the business task: The business task of this analysis is to gain insight into a how consumers use non-Bellabeat smart devices and use these insights gained to influence the marketing strategy for bellabeats's products.\n",
    "\n",
    "  2. Consider key stakeholders\n",
    "\n",
    "  3. Key stakeholders would be the bellabeat's current and prospective female customers, and bellabeat's marketing team.   "
   ]
  },
  {
   "cell_type": "markdown",
   "id": "78f2d0cf",
   "metadata": {},
   "source": [
    "### PREPARATION OF DATA FOR ANALYSIS\n",
    "\n",
    "  - Data is stored as CSV file\n",
    "  - Data organization is mixed where some files are in long format and others in wide format.\n",
    "  - ROCCC Analysis on the data is as follows:\n",
    "    1. Reliability: Data is fairly reliable as it reflects how fitness devices influence the fitness habits of some individuals. \n",
    "    2. Originality: Data originality is low has it is gathered by third party.               \n",
    "    3. Comprehensive: Data comprehensiveness is low as it is mixed gender data while the target stakeholders are female.\n",
    "    4. Current: Data is outdated by a few years, hence not current.\n",
    "    5. Cited: Data is in a public domain and not properly cited.\n",
    "  - Data is in a public domain hence available for public use.\n",
    "  - Data integrity cannot be verified due to it been gathered by a third-party.\n",
    "  - Data comprises of how 30 individuals use fitness devices to monitor and improve on their fitness habits\n",
    "  - Exploratory data analysis was performed on the daily_activity merged file to check and correct for improper entries, errors and improper formats.\n",
    "  - The total count of uniqe indviduals was performed and discovered to be 33 instead of the initial stated 30.\n",
    "\n",
    "#### The data will be prepared based on the following hypotesis:\n",
    "\n",
    "##### Question 1: is there inconsistency in the data tracked by the smart devices due to individuals not wearing their fitbase devices all through the day?\n",
    "  1. Analysis: The average total active minutes and average total steps of each individual will be analyzed with respect to their average calories\n",
    "  2. Question to be answered through analysis: Does high active minutes and more total steps taken always correlate to higher calories burned?\n",
    "  3. Hypothesis: if high active minutes and high total steps taken from the fit base recorded data does not always correlate to higher calories burned, then there is loss of data due to inconsistency in the tracking of the smart devices.\n",
    "   \n",
    "##### Question 2: Do individuals keep track of their daily steps taken regardless of if its over a short or longer distance?\n",
    "  1.  Analysis: The steps taken will be categorized into low, medium and high \n",
    "  2.  Question to be answered through analysis: is there a significant difference between recorded low, medium and high number of steps taken?\n",
    "  3. Hypothesis: if there is no significant difference betwwen the low, medium and high steps taken, then individuals keep track of the number of steps they take regardless of the distance.\n",
    "  \n",
    "##### Question 3: what is the general usage trend of the smart devices during the days of the week?\n",
    "  1.  Analysis: The average total steps and average total active minutes will be grouped by the days of the week.\n",
    "  2.  Question to be answered through analysis: How does the usage of the smart devices vary by the days of the week.\n",
    "  3. Hypothesis: The similarity in the trend of average total steps and average total active minutes during the days of the week signifies how individuals use their smart devices during certain days of the week."
   ]
  },
  {
   "cell_type": "code",
   "execution_count": 2,
   "id": "316b5038",
   "metadata": {},
   "outputs": [],
   "source": [
    "import pandas as pd\n",
    "import numpy as np\n",
    "import matplotlib.pyplot as plt\n",
    "import seaborn as sns"
   ]
  },
  {
   "cell_type": "code",
   "execution_count": 3,
   "id": "fcc786f4",
   "metadata": {},
   "outputs": [
    {
     "data": {
      "text/html": [
       "<div>\n",
       "<style scoped>\n",
       "    .dataframe tbody tr th:only-of-type {\n",
       "        vertical-align: middle;\n",
       "    }\n",
       "\n",
       "    .dataframe tbody tr th {\n",
       "        vertical-align: top;\n",
       "    }\n",
       "\n",
       "    .dataframe thead th {\n",
       "        text-align: right;\n",
       "    }\n",
       "</style>\n",
       "<table border=\"1\" class=\"dataframe\">\n",
       "  <thead>\n",
       "    <tr style=\"text-align: right;\">\n",
       "      <th></th>\n",
       "      <th>Id</th>\n",
       "      <th>activitydate</th>\n",
       "      <th>totalSteps</th>\n",
       "      <th>trackerdistance</th>\n",
       "      <th>veryactiveminutes</th>\n",
       "      <th>fairlyactiveminutes</th>\n",
       "      <th>lightlyactiveminutes</th>\n",
       "      <th>sedentaryminutes</th>\n",
       "      <th>Calories</th>\n",
       "      <th>totalbedtime</th>\n",
       "    </tr>\n",
       "  </thead>\n",
       "  <tbody>\n",
       "    <tr>\n",
       "      <th>0</th>\n",
       "      <td>8792009665</td>\n",
       "      <td>2016/05/4</td>\n",
       "      <td>2283</td>\n",
       "      <td>1.46</td>\n",
       "      <td>0</td>\n",
       "      <td>0</td>\n",
       "      <td>129</td>\n",
       "      <td>848</td>\n",
       "      <td>2067</td>\n",
       "      <td>463</td>\n",
       "    </tr>\n",
       "    <tr>\n",
       "      <th>1</th>\n",
       "      <td>8792009665</td>\n",
       "      <td>2016/05/3</td>\n",
       "      <td>2421</td>\n",
       "      <td>1.55</td>\n",
       "      <td>0</td>\n",
       "      <td>0</td>\n",
       "      <td>156</td>\n",
       "      <td>739</td>\n",
       "      <td>2297</td>\n",
       "      <td>545</td>\n",
       "    </tr>\n",
       "    <tr>\n",
       "      <th>2</th>\n",
       "      <td>8792009665</td>\n",
       "      <td>2016/05/2</td>\n",
       "      <td>1831</td>\n",
       "      <td>1.17</td>\n",
       "      <td>0</td>\n",
       "      <td>0</td>\n",
       "      <td>101</td>\n",
       "      <td>916</td>\n",
       "      <td>2015</td>\n",
       "      <td>423</td>\n",
       "    </tr>\n",
       "    <tr>\n",
       "      <th>3</th>\n",
       "      <td>8792009665</td>\n",
       "      <td>2016/05/1</td>\n",
       "      <td>1619</td>\n",
       "      <td>1.04</td>\n",
       "      <td>0</td>\n",
       "      <td>0</td>\n",
       "      <td>79</td>\n",
       "      <td>834</td>\n",
       "      <td>1962</td>\n",
       "      <td>527</td>\n",
       "    </tr>\n",
       "    <tr>\n",
       "      <th>4</th>\n",
       "      <td>8792009665</td>\n",
       "      <td>2016/04/30</td>\n",
       "      <td>7174</td>\n",
       "      <td>4.59</td>\n",
       "      <td>10</td>\n",
       "      <td>20</td>\n",
       "      <td>301</td>\n",
       "      <td>749</td>\n",
       "      <td>2896</td>\n",
       "      <td>360</td>\n",
       "    </tr>\n",
       "  </tbody>\n",
       "</table>\n",
       "</div>"
      ],
      "text/plain": [
       "           Id activitydate  totalSteps  trackerdistance  veryactiveminutes  \\\n",
       "0  8792009665    2016/05/4        2283             1.46                  0   \n",
       "1  8792009665    2016/05/3        2421             1.55                  0   \n",
       "2  8792009665    2016/05/2        1831             1.17                  0   \n",
       "3  8792009665    2016/05/1        1619             1.04                  0   \n",
       "4  8792009665   2016/04/30        7174             4.59                 10   \n",
       "\n",
       "   fairlyactiveminutes  lightlyactiveminutes  sedentaryminutes  Calories  \\\n",
       "0                    0                   129               848      2067   \n",
       "1                    0                   156               739      2297   \n",
       "2                    0                   101               916      2015   \n",
       "3                    0                    79               834      1962   \n",
       "4                   20                   301               749      2896   \n",
       "\n",
       "   totalbedtime  \n",
       "0           463  \n",
       "1           545  \n",
       "2           423  \n",
       "3           527  \n",
       "4           360  "
      ]
     },
     "execution_count": 3,
     "metadata": {},
     "output_type": "execute_result"
    }
   ],
   "source": [
    "# The data is imported from the desktop into jupyter notebook\n",
    "path = \"C:/Users/Skur/Desktop/Data Analyst - Scientist Career/Data Science - Analytics/Google Data Analytics Course/Case Study 1/For python/Dailiy_activity_merged_with_sleep.csv\"\n",
    "df = pd.read_csv(path)\n",
    "df.head(5)"
   ]
  },
  {
   "cell_type": "code",
   "execution_count": 4,
   "id": "4c2ab984",
   "metadata": {},
   "outputs": [
    {
     "name": "stdout",
     "output_type": "stream",
     "text": [
      "<class 'pandas.core.frame.DataFrame'>\n",
      "RangeIndex: 413 entries, 0 to 412\n",
      "Data columns (total 10 columns):\n",
      " #   Column                Non-Null Count  Dtype         \n",
      "---  ------                --------------  -----         \n",
      " 0   Id                    413 non-null    int64         \n",
      " 1   activitydate          413 non-null    datetime64[ns]\n",
      " 2   totalSteps            413 non-null    int64         \n",
      " 3   trackerdistance       413 non-null    float64       \n",
      " 4   veryactiveminutes     413 non-null    int64         \n",
      " 5   fairlyactiveminutes   413 non-null    int64         \n",
      " 6   lightlyactiveminutes  413 non-null    int64         \n",
      " 7   sedentaryminutes      413 non-null    int64         \n",
      " 8   Calories              413 non-null    int64         \n",
      " 9   totalbedtime          413 non-null    int64         \n",
      "dtypes: datetime64[ns](1), float64(1), int64(8)\n",
      "memory usage: 32.4 KB\n"
     ]
    }
   ],
   "source": [
    "import datetime as dt\n",
    "\n",
    "#converting the activitydate column to datetime format\n",
    "df[\"activitydate\"] = pd.to_datetime(df[\"activitydate\"])\n",
    "df.info()"
   ]
  },
  {
   "cell_type": "code",
   "execution_count": 62,
   "id": "dd6a503a",
   "metadata": {
    "scrolled": false
   },
   "outputs": [
    {
     "data": {
      "text/html": [
       "<div>\n",
       "<style scoped>\n",
       "    .dataframe tbody tr th:only-of-type {\n",
       "        vertical-align: middle;\n",
       "    }\n",
       "\n",
       "    .dataframe tbody tr th {\n",
       "        vertical-align: top;\n",
       "    }\n",
       "\n",
       "    .dataframe thead th {\n",
       "        text-align: right;\n",
       "    }\n",
       "</style>\n",
       "<table border=\"1\" class=\"dataframe\">\n",
       "  <thead>\n",
       "    <tr style=\"text-align: right;\">\n",
       "      <th></th>\n",
       "      <th>Id</th>\n",
       "      <th>totalSteps</th>\n",
       "      <th>trackerdistance</th>\n",
       "      <th>veryactiveminutes</th>\n",
       "      <th>fairlyactiveminutes</th>\n",
       "      <th>lightlyactiveminutes</th>\n",
       "      <th>sedentaryminutes</th>\n",
       "      <th>Calories</th>\n",
       "      <th>totalbedtime</th>\n",
       "    </tr>\n",
       "  </thead>\n",
       "  <tbody>\n",
       "    <tr>\n",
       "      <th>count</th>\n",
       "      <td>4.130000e+02</td>\n",
       "      <td>413.000000</td>\n",
       "      <td>413.000000</td>\n",
       "      <td>413.000000</td>\n",
       "      <td>413.000000</td>\n",
       "      <td>413.000000</td>\n",
       "      <td>413.000000</td>\n",
       "      <td>413.000000</td>\n",
       "      <td>413.000000</td>\n",
       "    </tr>\n",
       "    <tr>\n",
       "      <th>mean</th>\n",
       "      <td>5.000979e+09</td>\n",
       "      <td>8541.140436</td>\n",
       "      <td>6.033632</td>\n",
       "      <td>25.188862</td>\n",
       "      <td>18.038741</td>\n",
       "      <td>216.854722</td>\n",
       "      <td>712.169492</td>\n",
       "      <td>2397.573850</td>\n",
       "      <td>458.639225</td>\n",
       "    </tr>\n",
       "    <tr>\n",
       "      <th>std</th>\n",
       "      <td>2.060360e+09</td>\n",
       "      <td>4156.926990</td>\n",
       "      <td>3.047420</td>\n",
       "      <td>36.388187</td>\n",
       "      <td>22.403590</td>\n",
       "      <td>87.164687</td>\n",
       "      <td>165.957432</td>\n",
       "      <td>762.886326</td>\n",
       "      <td>127.101607</td>\n",
       "    </tr>\n",
       "    <tr>\n",
       "      <th>min</th>\n",
       "      <td>1.503960e+09</td>\n",
       "      <td>17.000000</td>\n",
       "      <td>0.010000</td>\n",
       "      <td>0.000000</td>\n",
       "      <td>0.000000</td>\n",
       "      <td>2.000000</td>\n",
       "      <td>0.000000</td>\n",
       "      <td>257.000000</td>\n",
       "      <td>61.000000</td>\n",
       "    </tr>\n",
       "    <tr>\n",
       "      <th>25%</th>\n",
       "      <td>3.977334e+09</td>\n",
       "      <td>5206.000000</td>\n",
       "      <td>3.600000</td>\n",
       "      <td>0.000000</td>\n",
       "      <td>0.000000</td>\n",
       "      <td>158.000000</td>\n",
       "      <td>631.000000</td>\n",
       "      <td>1850.000000</td>\n",
       "      <td>403.000000</td>\n",
       "    </tr>\n",
       "    <tr>\n",
       "      <th>50%</th>\n",
       "      <td>4.702922e+09</td>\n",
       "      <td>8925.000000</td>\n",
       "      <td>6.290000</td>\n",
       "      <td>9.000000</td>\n",
       "      <td>11.000000</td>\n",
       "      <td>208.000000</td>\n",
       "      <td>717.000000</td>\n",
       "      <td>2220.000000</td>\n",
       "      <td>463.000000</td>\n",
       "    </tr>\n",
       "    <tr>\n",
       "      <th>75%</th>\n",
       "      <td>6.962181e+09</td>\n",
       "      <td>11393.000000</td>\n",
       "      <td>8.020000</td>\n",
       "      <td>38.000000</td>\n",
       "      <td>27.000000</td>\n",
       "      <td>263.000000</td>\n",
       "      <td>783.000000</td>\n",
       "      <td>2926.000000</td>\n",
       "      <td>526.000000</td>\n",
       "    </tr>\n",
       "    <tr>\n",
       "      <th>max</th>\n",
       "      <td>8.792010e+09</td>\n",
       "      <td>22770.000000</td>\n",
       "      <td>17.540000</td>\n",
       "      <td>210.000000</td>\n",
       "      <td>143.000000</td>\n",
       "      <td>518.000000</td>\n",
       "      <td>1265.000000</td>\n",
       "      <td>4900.000000</td>\n",
       "      <td>961.000000</td>\n",
       "    </tr>\n",
       "  </tbody>\n",
       "</table>\n",
       "</div>"
      ],
      "text/plain": [
       "                 Id    totalSteps  trackerdistance  veryactiveminutes  \\\n",
       "count  4.130000e+02    413.000000       413.000000         413.000000   \n",
       "mean   5.000979e+09   8541.140436         6.033632          25.188862   \n",
       "std    2.060360e+09   4156.926990         3.047420          36.388187   \n",
       "min    1.503960e+09     17.000000         0.010000           0.000000   \n",
       "25%    3.977334e+09   5206.000000         3.600000           0.000000   \n",
       "50%    4.702922e+09   8925.000000         6.290000           9.000000   \n",
       "75%    6.962181e+09  11393.000000         8.020000          38.000000   \n",
       "max    8.792010e+09  22770.000000        17.540000         210.000000   \n",
       "\n",
       "       fairlyactiveminutes  lightlyactiveminutes  sedentaryminutes  \\\n",
       "count           413.000000            413.000000        413.000000   \n",
       "mean             18.038741            216.854722        712.169492   \n",
       "std              22.403590             87.164687        165.957432   \n",
       "min               0.000000              2.000000          0.000000   \n",
       "25%               0.000000            158.000000        631.000000   \n",
       "50%              11.000000            208.000000        717.000000   \n",
       "75%              27.000000            263.000000        783.000000   \n",
       "max             143.000000            518.000000       1265.000000   \n",
       "\n",
       "          Calories  totalbedtime  \n",
       "count   413.000000    413.000000  \n",
       "mean   2397.573850    458.639225  \n",
       "std     762.886326    127.101607  \n",
       "min     257.000000     61.000000  \n",
       "25%    1850.000000    403.000000  \n",
       "50%    2220.000000    463.000000  \n",
       "75%    2926.000000    526.000000  \n",
       "max    4900.000000    961.000000  "
      ]
     },
     "execution_count": 62,
     "metadata": {},
     "output_type": "execute_result"
    }
   ],
   "source": [
    "df.describe()"
   ]
  },
  {
   "cell_type": "markdown",
   "id": "b7fbe17d",
   "metadata": {},
   "source": [
    "### PROCESSING THE DATA FOR HYPOTHESIS 1"
   ]
  },
  {
   "cell_type": "code",
   "execution_count": 5,
   "id": "9e33552b",
   "metadata": {},
   "outputs": [
    {
     "data": {
      "text/html": [
       "<div>\n",
       "<style scoped>\n",
       "    .dataframe tbody tr th:only-of-type {\n",
       "        vertical-align: middle;\n",
       "    }\n",
       "\n",
       "    .dataframe tbody tr th {\n",
       "        vertical-align: top;\n",
       "    }\n",
       "\n",
       "    .dataframe thead th {\n",
       "        text-align: right;\n",
       "    }\n",
       "</style>\n",
       "<table border=\"1\" class=\"dataframe\">\n",
       "  <thead>\n",
       "    <tr style=\"text-align: right;\">\n",
       "      <th></th>\n",
       "      <th>Id</th>\n",
       "      <th>totalSteps</th>\n",
       "      <th>total_active_minutes</th>\n",
       "      <th>Calories</th>\n",
       "    </tr>\n",
       "  </thead>\n",
       "  <tbody>\n",
       "    <tr>\n",
       "      <th>0</th>\n",
       "      <td>8792009665</td>\n",
       "      <td>3443.0</td>\n",
       "      <td>178.0</td>\n",
       "      <td>2299.0</td>\n",
       "    </tr>\n",
       "    <tr>\n",
       "      <th>1</th>\n",
       "      <td>8378563200</td>\n",
       "      <td>8833.0</td>\n",
       "      <td>227.0</td>\n",
       "      <td>3454.0</td>\n",
       "    </tr>\n",
       "    <tr>\n",
       "      <th>2</th>\n",
       "      <td>8053475328</td>\n",
       "      <td>19079.0</td>\n",
       "      <td>301.0</td>\n",
       "      <td>3309.0</td>\n",
       "    </tr>\n",
       "    <tr>\n",
       "      <th>3</th>\n",
       "      <td>7086361926</td>\n",
       "      <td>10290.0</td>\n",
       "      <td>234.0</td>\n",
       "      <td>2658.0</td>\n",
       "    </tr>\n",
       "    <tr>\n",
       "      <th>4</th>\n",
       "      <td>7007744171</td>\n",
       "      <td>5116.0</td>\n",
       "      <td>220.0</td>\n",
       "      <td>2150.0</td>\n",
       "    </tr>\n",
       "  </tbody>\n",
       "</table>\n",
       "</div>"
      ],
      "text/plain": [
       "           Id  totalSteps  total_active_minutes  Calories\n",
       "0  8792009665      3443.0                 178.0    2299.0\n",
       "1  8378563200      8833.0                 227.0    3454.0\n",
       "2  8053475328     19079.0                 301.0    3309.0\n",
       "3  7086361926     10290.0                 234.0    2658.0\n",
       "4  7007744171      5116.0                 220.0    2150.0"
      ]
     },
     "execution_count": 5,
     "metadata": {},
     "output_type": "execute_result"
    }
   ],
   "source": [
    "#The total active minutes for each activity date is calculated.\n",
    "df[\"total_active_minutes\"] = df[\"veryactiveminutes\"] + df[\"fairlyactiveminutes\"] + df[\"lightlyactiveminutes\"]\n",
    "# The data is grouped by the customer Id.\n",
    "# The average of total steps, total_active_minutes and calories burnt is  calculated for each customer Id\n",
    "df_group = df[[\"Id\", \"totalSteps\", \"total_active_minutes\", \"Calories\"]]\n",
    "df_groupby_Id = df_group.groupby([\"Id\"], as_index=False, sort=False)[[\"totalSteps\", \"total_active_minutes\", \"Calories\"]].mean().round()\n",
    "#Checking a sample of the data\n",
    "df_groupby_Id.head(5)"
   ]
  },
  {
   "cell_type": "markdown",
   "id": "38c59824",
   "metadata": {},
   "source": [
    "### PROCESSING THE DATA FOR HYPOTHESIS 2"
   ]
  },
  {
   "cell_type": "code",
   "execution_count": 6,
   "id": "4cc2425d",
   "metadata": {},
   "outputs": [
    {
     "data": {
      "text/html": [
       "<div>\n",
       "<style scoped>\n",
       "    .dataframe tbody tr th:only-of-type {\n",
       "        vertical-align: middle;\n",
       "    }\n",
       "\n",
       "    .dataframe tbody tr th {\n",
       "        vertical-align: top;\n",
       "    }\n",
       "\n",
       "    .dataframe thead th {\n",
       "        text-align: right;\n",
       "    }\n",
       "</style>\n",
       "<table border=\"1\" class=\"dataframe\">\n",
       "  <thead>\n",
       "    <tr style=\"text-align: right;\">\n",
       "      <th></th>\n",
       "      <th>Id</th>\n",
       "      <th>activitydate</th>\n",
       "      <th>totalSteps</th>\n",
       "      <th>trackerdistance</th>\n",
       "      <th>veryactiveminutes</th>\n",
       "      <th>fairlyactiveminutes</th>\n",
       "      <th>lightlyactiveminutes</th>\n",
       "      <th>sedentaryminutes</th>\n",
       "      <th>Calories</th>\n",
       "      <th>totalbedtime</th>\n",
       "      <th>total_active_minutes</th>\n",
       "      <th>total_steps_category</th>\n",
       "      <th>total_active_minutes_category</th>\n",
       "    </tr>\n",
       "  </thead>\n",
       "  <tbody>\n",
       "    <tr>\n",
       "      <th>0</th>\n",
       "      <td>8792009665</td>\n",
       "      <td>2016-05-04</td>\n",
       "      <td>2283</td>\n",
       "      <td>1.46</td>\n",
       "      <td>0</td>\n",
       "      <td>0</td>\n",
       "      <td>129</td>\n",
       "      <td>848</td>\n",
       "      <td>2067</td>\n",
       "      <td>463</td>\n",
       "      <td>129</td>\n",
       "      <td>Low</td>\n",
       "      <td>Low</td>\n",
       "    </tr>\n",
       "    <tr>\n",
       "      <th>1</th>\n",
       "      <td>8792009665</td>\n",
       "      <td>2016-05-03</td>\n",
       "      <td>2421</td>\n",
       "      <td>1.55</td>\n",
       "      <td>0</td>\n",
       "      <td>0</td>\n",
       "      <td>156</td>\n",
       "      <td>739</td>\n",
       "      <td>2297</td>\n",
       "      <td>545</td>\n",
       "      <td>156</td>\n",
       "      <td>Low</td>\n",
       "      <td>Low</td>\n",
       "    </tr>\n",
       "    <tr>\n",
       "      <th>2</th>\n",
       "      <td>8792009665</td>\n",
       "      <td>2016-05-02</td>\n",
       "      <td>1831</td>\n",
       "      <td>1.17</td>\n",
       "      <td>0</td>\n",
       "      <td>0</td>\n",
       "      <td>101</td>\n",
       "      <td>916</td>\n",
       "      <td>2015</td>\n",
       "      <td>423</td>\n",
       "      <td>101</td>\n",
       "      <td>Low</td>\n",
       "      <td>Low</td>\n",
       "    </tr>\n",
       "    <tr>\n",
       "      <th>3</th>\n",
       "      <td>8792009665</td>\n",
       "      <td>2016-05-01</td>\n",
       "      <td>1619</td>\n",
       "      <td>1.04</td>\n",
       "      <td>0</td>\n",
       "      <td>0</td>\n",
       "      <td>79</td>\n",
       "      <td>834</td>\n",
       "      <td>1962</td>\n",
       "      <td>527</td>\n",
       "      <td>79</td>\n",
       "      <td>Low</td>\n",
       "      <td>Low</td>\n",
       "    </tr>\n",
       "    <tr>\n",
       "      <th>4</th>\n",
       "      <td>8792009665</td>\n",
       "      <td>2016-04-30</td>\n",
       "      <td>7174</td>\n",
       "      <td>4.59</td>\n",
       "      <td>10</td>\n",
       "      <td>20</td>\n",
       "      <td>301</td>\n",
       "      <td>749</td>\n",
       "      <td>2896</td>\n",
       "      <td>360</td>\n",
       "      <td>331</td>\n",
       "      <td>Low</td>\n",
       "      <td>Medium</td>\n",
       "    </tr>\n",
       "  </tbody>\n",
       "</table>\n",
       "</div>"
      ],
      "text/plain": [
       "           Id activitydate  totalSteps  trackerdistance  veryactiveminutes  \\\n",
       "0  8792009665   2016-05-04        2283             1.46                  0   \n",
       "1  8792009665   2016-05-03        2421             1.55                  0   \n",
       "2  8792009665   2016-05-02        1831             1.17                  0   \n",
       "3  8792009665   2016-05-01        1619             1.04                  0   \n",
       "4  8792009665   2016-04-30        7174             4.59                 10   \n",
       "\n",
       "   fairlyactiveminutes  lightlyactiveminutes  sedentaryminutes  Calories  \\\n",
       "0                    0                   129               848      2067   \n",
       "1                    0                   156               739      2297   \n",
       "2                    0                   101               916      2015   \n",
       "3                    0                    79               834      1962   \n",
       "4                   20                   301               749      2896   \n",
       "\n",
       "   totalbedtime  total_active_minutes total_steps_category  \\\n",
       "0           463                   129                  Low   \n",
       "1           545                   156                  Low   \n",
       "2           423                   101                  Low   \n",
       "3           527                    79                  Low   \n",
       "4           360                   331                  Low   \n",
       "\n",
       "  total_active_minutes_category  \n",
       "0                           Low  \n",
       "1                           Low  \n",
       "2                           Low  \n",
       "3                           Low  \n",
       "4                        Medium  "
      ]
     },
     "execution_count": 6,
     "metadata": {},
     "output_type": "execute_result"
    }
   ],
   "source": [
    "#The totalsteps column is grouped into low, medium and high category\n",
    "bins = np.linspace(min(df[\"totalSteps\"]), max(df[\"totalSteps\"]), 4)\n",
    "group_names = [\"Low\", \"Medium\", \"High\"]\n",
    "df[\"total_steps_category\"] = pd.cut(df[\"totalSteps\"], bins, labels=group_names, include_lowest=True)\n",
    "\n",
    "#The total_active_minutes column is grouped into low, medium and high category\n",
    "bins = np.linspace(min(df[\"total_active_minutes\"]), max(df[\"total_active_minutes\"]), 4)\n",
    "group_names_minutes = [\"Low\", \"Medium\", \"High\"]\n",
    "df[\"total_active_minutes_category\"] = pd.cut(df[\"total_active_minutes\"], bins, labels=group_names_minutes, include_lowest=True)\n",
    "\n",
    "#Checking a sample of the data\n",
    "df.head(5)"
   ]
  },
  {
   "cell_type": "markdown",
   "id": "57aecbd0",
   "metadata": {},
   "source": [
    "### PROCESSING THE DATA FOR HYPOTHESIS 3"
   ]
  },
  {
   "cell_type": "code",
   "execution_count": 12,
   "id": "df707587",
   "metadata": {
    "scrolled": true
   },
   "outputs": [
    {
     "data": {
      "text/html": [
       "<div>\n",
       "<style scoped>\n",
       "    .dataframe tbody tr th:only-of-type {\n",
       "        vertical-align: middle;\n",
       "    }\n",
       "\n",
       "    .dataframe tbody tr th {\n",
       "        vertical-align: top;\n",
       "    }\n",
       "\n",
       "    .dataframe thead th {\n",
       "        text-align: right;\n",
       "    }\n",
       "</style>\n",
       "<table border=\"1\" class=\"dataframe\">\n",
       "  <thead>\n",
       "    <tr style=\"text-align: right;\">\n",
       "      <th></th>\n",
       "      <th>day_of_week</th>\n",
       "      <th>totalSteps</th>\n",
       "      <th>total_active_minutes</th>\n",
       "    </tr>\n",
       "  </thead>\n",
       "  <tbody>\n",
       "    <tr>\n",
       "      <th>3</th>\n",
       "      <td>Sunday</td>\n",
       "      <td>7298.0</td>\n",
       "      <td>239.0</td>\n",
       "    </tr>\n",
       "    <tr>\n",
       "      <th>5</th>\n",
       "      <td>Friday</td>\n",
       "      <td>7901.0</td>\n",
       "      <td>258.0</td>\n",
       "    </tr>\n",
       "    <tr>\n",
       "      <th>0</th>\n",
       "      <td>Wednesday</td>\n",
       "      <td>8023.0</td>\n",
       "      <td>246.0</td>\n",
       "    </tr>\n",
       "    <tr>\n",
       "      <th>6</th>\n",
       "      <td>Thursday</td>\n",
       "      <td>8205.0</td>\n",
       "      <td>242.0</td>\n",
       "    </tr>\n",
       "    <tr>\n",
       "      <th>1</th>\n",
       "      <td>Tuesday</td>\n",
       "      <td>9183.0</td>\n",
       "      <td>267.0</td>\n",
       "    </tr>\n",
       "    <tr>\n",
       "      <th>2</th>\n",
       "      <td>Monday</td>\n",
       "      <td>9340.0</td>\n",
       "      <td>272.0</td>\n",
       "    </tr>\n",
       "    <tr>\n",
       "      <th>4</th>\n",
       "      <td>Saturday</td>\n",
       "      <td>9949.0</td>\n",
       "      <td>300.0</td>\n",
       "    </tr>\n",
       "  </tbody>\n",
       "</table>\n",
       "</div>"
      ],
      "text/plain": [
       "  day_of_week  totalSteps  total_active_minutes\n",
       "3      Sunday      7298.0                 239.0\n",
       "5      Friday      7901.0                 258.0\n",
       "0   Wednesday      8023.0                 246.0\n",
       "6    Thursday      8205.0                 242.0\n",
       "1     Tuesday      9183.0                 267.0\n",
       "2      Monday      9340.0                 272.0\n",
       "4    Saturday      9949.0                 300.0"
      ]
     },
     "execution_count": 12,
     "metadata": {},
     "output_type": "execute_result"
    }
   ],
   "source": [
    "#The activty date are converted to their respective days of the week\n",
    "df[\"day_of_week\"] = df[\"activitydate\"].dt.day_name()\n",
    "#The data is grouped by the respective days \n",
    "#The average values for total steps taken and total active minutes is derived for each day of the week\n",
    "df_group = df[[\"day_of_week\",\"totalSteps\", \"total_active_minutes\"]]\n",
    "df_groupby_day = df_group.groupby([\"day_of_week\"], as_index=False, sort=False)[[\"totalSteps\", \"total_active_minutes\"]].mean().round()\n",
    "#The data is sorted by the total steps taken in ascending order.\n",
    "df_groupby_day = df_groupby_day.sort_values(by = [\"totalSteps\"])\n",
    "#Displaying the data\n",
    "df_groupby_day"
   ]
  },
  {
   "cell_type": "markdown",
   "id": "21f0261a",
   "metadata": {},
   "source": [
    "### DATA ANALYSIS ON THE DATASETS BASED ON THE GIVEN HYPOTHESIS"
   ]
  },
  {
   "cell_type": "markdown",
   "id": "3f19d4b8",
   "metadata": {},
   "source": [
    "### ANALYSIS FOR HYPOTHESIS 1"
   ]
  },
  {
   "cell_type": "code",
   "execution_count": 13,
   "id": "b1deee3f",
   "metadata": {},
   "outputs": [
    {
     "data": {
      "text/plain": [
       "<Axes: title={'center': 'total_active_minutes versus calories burned'}, xlabel='Calories', ylabel='total_active_minutes'>"
      ]
     },
     "execution_count": 13,
     "metadata": {},
     "output_type": "execute_result"
    },
    {
     "data": {
      "image/png": "[encoded data removed]",
      "text/plain": [
       "<Figure size 2000x600 with 2 Axes>"
      ]
     },
     "metadata": {},
     "output_type": "display_data"
    }
   ],
   "source": [
    "#using scatterplot to plot totalsteps and total_active_minutes against Calories6\n",
    "fig, (ax1,ax2) = plt.subplots(1,2, figsize=(20,6))\n",
    "\n",
    "ax1.set_title('totalSteps versus calories burned')\n",
    "sns.scatterplot(x='Calories', y='totalSteps', data=df_groupby_Id, ax=ax1)\n",
    "\n",
    "ax2.set_title('total_active_minutes versus calories burned')\n",
    "sns.scatterplot(x='Calories', y='total_active_minutes', data=df_groupby_Id, ax=ax2)"
   ]
  },
  {
   "cell_type": "markdown",
   "id": "1056af32",
   "metadata": {},
   "source": [
    "In the above result, there is no correlation between the average total steps, average active minutes and calroies burned. This is likely to be a result of inconsistency in the data recorded which might be as a result of data loss when users do not use their smart devices."
   ]
  },
  {
   "cell_type": "markdown",
   "id": "e003d832",
   "metadata": {},
   "source": [
    "### ANALYSIS FOR HYPOTHESIS 2"
   ]
  },
  {
   "cell_type": "code",
   "execution_count": 12,
   "id": "1864e21d",
   "metadata": {},
   "outputs": [
    {
     "data": {
      "text/plain": [
       "<Axes: title={'center': 'total_active_minutes_category versus total_active_minutes'}, xlabel='total_active_minutes', ylabel='total_active_minutes_category'>"
      ]
     },
     "execution_count": 12,
     "metadata": {},
     "output_type": "execute_result"
    },
    {
     "data": {
      "image/png": "[encoded data removed]",
      "text/plain": [
       "<Figure size 2000x600 with 2 Axes>"
      ]
     },
     "metadata": {},
     "output_type": "display_data"
    }
   ],
   "source": [
    "#box-plot for the total_steps_category using seaborn library\n",
    "\n",
    "#using scatterplot to plot totalsteps and total_active_minutes against Calories6\n",
    "fig, (ax1,ax2) = plt.subplots(1,2, figsize=(20,6))\n",
    "\n",
    "ax1.set_title('totalSteps_category versus totalSteps')\n",
    "sns.boxplot(x=df[\"totalSteps\"],  y = df[\"total_steps_category\"], data=df, ax=ax1)\n",
    "\n",
    "ax2.set_title('total_active_minutes_category versus total_active_minutes')\n",
    "sns.boxplot(x=df[\"total_active_minutes\"], y = df[\"total_active_minutes_category\"], data=df, ax=ax2)\n",
    "\n",
    "#sns.boxplot(x = df[\"total_active_minutes\"], y = df[\"total_active_minutes_category\"])"
   ]
  },
  {
   "cell_type": "markdown",
   "id": "9309c8a6",
   "metadata": {},
   "source": [
    "1. The average total steps recorded data mostly falls above the 3rd quartile of the high category while there is no significant difference in the recorded data that falls in low and medium category. Hence, it is more likely that smart device users make conscious effort to make records of their longer walks.  \n",
    "\n",
    "\n",
    "2. The recorded data for average total_active_minutes mostly falls below the 1st quartile of the low category and above the 3rd quartile of the high category while there is no significant change in the movement of recorded data across the quartiles in the medium category. Hence we can deduce that, users of smart devices might be making more conscious effort to keep track of their period of low and high activeness. "
   ]
  },
  {
   "cell_type": "markdown",
   "id": "f60756ea",
   "metadata": {},
   "source": [
    "### ANALYSIS FOR HYPOTHESIS 3"
   ]
  },
  {
   "cell_type": "code",
   "execution_count": 37,
   "id": "52897633",
   "metadata": {
    "scrolled": true
   },
   "outputs": [
    {
     "data": {
      "text/plain": [
       "<Axes: title={'center': 'avg_total_active_minutes on each day of the week'}, xlabel='day_of_week', ylabel='total_active_minutes'>"
      ]
     },
     "execution_count": 37,
     "metadata": {},
     "output_type": "execute_result"
    },
    {
     "data": {
      "image/png": "[encoded data removed]",
      "text/plain": [
       "<Figure size 2200x500 with 2 Axes>"
      ]
     },
     "metadata": {},
     "output_type": "display_data"
    }
   ],
   "source": [
    "fig, (ax1,ax2) = plt.subplots(1,2, figsize=(22,5))\n",
    "\n",
    "ax1.set_title('avg_total_steps_taken on each day of the week')\n",
    "sns.barplot(x='day_of_week', y='totalSteps', data=df_groupby_day, ax=ax1)\n",
    "\n",
    "ax2.set_title('avg_total_active_minutes on each day of the week')\n",
    "sns.barplot(x='day_of_week', y='total_active_minutes', data=df_groupby_day, ax=ax2)"
   ]
  },
  {
   "cell_type": "markdown",
   "id": "7c980bc0",
   "metadata": {},
   "source": [
    "There is similar trend in the usage of smart devices across the days of the week on both graphs with only friday being the major difference. It can be seen from the two graphs that:\n",
    "\n",
    "1. Sunday has the lowest recorded data for both graphs hence users likely use their smart devices the least during this day\n",
    "2. Friday is differenct for both graphs but higher than sundays. This shows users are likely to use their smart devices more on fridays than sundays.\n",
    "3. Wednesday and Thursday share similar level on both graphs. The usage of smart devices by users is higher in these days than on sunday.\n",
    "4. Tuesday and Monday are higher than the rest of the days except for Saturday hence usage of smart devices is high on Tuesday and Monday has compared to most days of the week.\n",
    "5. With Saturdays having the highest usage of smart devices on both graphs, this signifies users are more likely to use their smart devices more engagingly on a Saturday."
   ]
  },
  {
   "cell_type": "markdown",
   "id": "a5dfc1e8",
   "metadata": {},
   "source": [
    "### RECOMMENDATION"
   ]
  },
  {
   "cell_type": "markdown",
   "id": "4a82a342",
   "metadata": {},
   "source": [
    "1. Users with non-bellabeat devices are likely not being provided with enough information on their current habits and health decisions by their smart devices. The bellabeat app can help bridge this gap.\n",
    "\n",
    "2.  The bellabeat leaf and time devices which can be comfortably worn can provide users with 24/ 7 tracking of their low, medium and highly active periods in order to easily track their daily health habits.\n",
    "\n",
    "3. Users might not be satisfied with their smart device usage due to inconsistency in lifestyle and health habits due to different commitmenmts during the days of the week. Bellabeat membership which provides users with a 24/ 7 personalized guidance which can help users stay on top of their lifestyle and health goals."
   ]
  },
  {
   "cell_type": "code",
   "execution_count": null,
   "id": "7b983db1",
   "metadata": {},
   "outputs": [],
   "source": []
  }
 ],
 "metadata": {
  "kernelspec": {
   "display_name": "Python 3 (ipykernel)",
   "language": "python",
   "name": "python3"
  },
  "language_info": {
   "codemirror_mode": {
    "name": "ipython",
    "version": 3
   },
   "file_extension": ".py",
   "mimetype": "text/x-python",
   "name": "python",
   "nbconvert_exporter": "python",
   "pygments_lexer": "ipython3",
   "version": "3.10.9"
  }
 },
 "nbformat": 4,
 "nbformat_minor": 5
}
