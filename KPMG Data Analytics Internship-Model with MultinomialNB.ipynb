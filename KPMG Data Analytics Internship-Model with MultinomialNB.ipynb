{
 "cells": [
  {
   "cell_type": "code",
   "execution_count": 3,
   "id": "82328e2b",
   "metadata": {},
   "outputs": [],
   "source": [
    "import pandas as pd\n",
    "import numpy as np\n",
    "from matplotlib import pyplot as plt\n",
    "import seaborn as sns\n",
    "import plotly.express as px\n",
    "import datetime as dt"
   ]
  },
  {
   "cell_type": "markdown",
   "id": "d817554a",
   "metadata": {},
   "source": [
    "##  THE DATASETS ARE IMPORTED AND EXPLORATORY DATA ANALYSIS IS PERFORMED"
   ]
  },
  {
   "cell_type": "code",
   "execution_count": 4,
   "id": "b415fdfe",
   "metadata": {},
   "outputs": [],
   "source": [
    "customer_demographic_data = pd.read_excel(\"/Users/admin/Desktop/Data Analyst - Scientist Career/Data Science - Analytics/KPMG Data Analytics Internship/CustomerDemographic.xlsx\")"
   ]
  },
  {
   "cell_type": "code",
   "execution_count": 5,
   "id": "97a4411f",
   "metadata": {},
   "outputs": [],
   "source": [
    "transactions_data = pd.read_excel(\"/Users/admin/Desktop/Data Analyst - Scientist Career/Data Science - Analytics/KPMG Data Analytics Internship/Transactions.xlsx\")"
   ]
  },
  {
   "cell_type": "code",
   "execution_count": 6,
   "id": "d80c93a9",
   "metadata": {},
   "outputs": [],
   "source": [
    "customer_address_data = pd.read_excel(\"/Users/admin/Desktop/Data Analyst - Scientist Career/Data Science - Analytics/KPMG Data Analytics Internship/CustomerAddress.xlsx\")"
   ]
  },
  {
   "cell_type": "code",
   "execution_count": 7,
   "id": "4f7ef65f",
   "metadata": {},
   "outputs": [
    {
     "name": "stderr",
     "output_type": "stream",
     "text": [
      "/var/folders/wx/7dmr67zx5b3cbyb9xt2zx31w0000gn/T/ipykernel_4286/362613366.py:1: FutureWarning: Inferring datetime64[ns] from data containing strings is deprecated and will be removed in a future version. To retain the old behavior explicitly pass Series(data, dtype=datetime64[ns])\n",
      "  NewCustomerList = pd.read_excel(\"/Users/admin/Desktop/Data Analyst - Scientist Career/Data Science - Analytics/KPMG Data Analytics Internship/NewCustomerList.xlsx\")\n"
     ]
    }
   ],
   "source": [
    "NewCustomerList = pd.read_excel(\"/Users/admin/Desktop/Data Analyst - Scientist Career/Data Science - Analytics/KPMG Data Analytics Internship/NewCustomerList.xlsx\")"
   ]
  },
  {
   "cell_type": "markdown",
   "id": "c966035d",
   "metadata": {},
   "source": [
    "## DATA MERGING IS PERFORMED ON THE DATASETS\n",
    "\n",
    "Data is merged based on the customer_Id in the master data set which is the customer_demographic_data"
   ]
  },
  {
   "cell_type": "code",
   "execution_count": 8,
   "id": "76a7101f",
   "metadata": {},
   "outputs": [
    {
     "data": {
      "text/html": [
       "<div>\n",
       "<style scoped>\n",
       "    .dataframe tbody tr th:only-of-type {\n",
       "        vertical-align: middle;\n",
       "    }\n",
       "\n",
       "    .dataframe tbody tr th {\n",
       "        vertical-align: top;\n",
       "    }\n",
       "\n",
       "    .dataframe thead th {\n",
       "        text-align: right;\n",
       "    }\n",
       "</style>\n",
       "<table border=\"1\" class=\"dataframe\">\n",
       "  <thead>\n",
       "    <tr style=\"text-align: right;\">\n",
       "      <th></th>\n",
       "      <th>customer_id</th>\n",
       "      <th>first_name</th>\n",
       "      <th>last_name</th>\n",
       "      <th>gender</th>\n",
       "      <th>past_3_years_bike_related_purchases</th>\n",
       "      <th>DOB</th>\n",
       "      <th>job_title</th>\n",
       "      <th>job_industry_category</th>\n",
       "      <th>wealth_segment</th>\n",
       "      <th>deceased_indicator</th>\n",
       "      <th>...</th>\n",
       "      <th>product_class</th>\n",
       "      <th>product_size</th>\n",
       "      <th>list_price</th>\n",
       "      <th>standard_cost</th>\n",
       "      <th>product_first_sold_date</th>\n",
       "      <th>address</th>\n",
       "      <th>postcode</th>\n",
       "      <th>state</th>\n",
       "      <th>country</th>\n",
       "      <th>property_valuation</th>\n",
       "    </tr>\n",
       "  </thead>\n",
       "  <tbody>\n",
       "    <tr>\n",
       "      <th>0</th>\n",
       "      <td>1</td>\n",
       "      <td>Laraine</td>\n",
       "      <td>Medendorp</td>\n",
       "      <td>F</td>\n",
       "      <td>93</td>\n",
       "      <td>1953-10-12 00:00:00</td>\n",
       "      <td>Executive Secretary</td>\n",
       "      <td>Health</td>\n",
       "      <td>Mass Customer</td>\n",
       "      <td>N</td>\n",
       "      <td>...</td>\n",
       "      <td>medium</td>\n",
       "      <td>medium</td>\n",
       "      <td>235.63</td>\n",
       "      <td>125.07</td>\n",
       "      <td>38482.0</td>\n",
       "      <td>060 Morning Avenue</td>\n",
       "      <td>2016</td>\n",
       "      <td>New South Wales</td>\n",
       "      <td>Australia</td>\n",
       "      <td>10</td>\n",
       "    </tr>\n",
       "    <tr>\n",
       "      <th>1</th>\n",
       "      <td>1</td>\n",
       "      <td>Laraine</td>\n",
       "      <td>Medendorp</td>\n",
       "      <td>F</td>\n",
       "      <td>93</td>\n",
       "      <td>1953-10-12 00:00:00</td>\n",
       "      <td>Executive Secretary</td>\n",
       "      <td>Health</td>\n",
       "      <td>Mass Customer</td>\n",
       "      <td>N</td>\n",
       "      <td>...</td>\n",
       "      <td>medium</td>\n",
       "      <td>medium</td>\n",
       "      <td>230.91</td>\n",
       "      <td>173.18</td>\n",
       "      <td>37337.0</td>\n",
       "      <td>060 Morning Avenue</td>\n",
       "      <td>2016</td>\n",
       "      <td>New South Wales</td>\n",
       "      <td>Australia</td>\n",
       "      <td>10</td>\n",
       "    </tr>\n",
       "    <tr>\n",
       "      <th>2</th>\n",
       "      <td>1</td>\n",
       "      <td>Laraine</td>\n",
       "      <td>Medendorp</td>\n",
       "      <td>F</td>\n",
       "      <td>93</td>\n",
       "      <td>1953-10-12 00:00:00</td>\n",
       "      <td>Executive Secretary</td>\n",
       "      <td>Health</td>\n",
       "      <td>Mass Customer</td>\n",
       "      <td>N</td>\n",
       "      <td>...</td>\n",
       "      <td>medium</td>\n",
       "      <td>medium</td>\n",
       "      <td>742.54</td>\n",
       "      <td>667.40</td>\n",
       "      <td>37838.0</td>\n",
       "      <td>060 Morning Avenue</td>\n",
       "      <td>2016</td>\n",
       "      <td>New South Wales</td>\n",
       "      <td>Australia</td>\n",
       "      <td>10</td>\n",
       "    </tr>\n",
       "    <tr>\n",
       "      <th>3</th>\n",
       "      <td>1</td>\n",
       "      <td>Laraine</td>\n",
       "      <td>Medendorp</td>\n",
       "      <td>F</td>\n",
       "      <td>93</td>\n",
       "      <td>1953-10-12 00:00:00</td>\n",
       "      <td>Executive Secretary</td>\n",
       "      <td>Health</td>\n",
       "      <td>Mass Customer</td>\n",
       "      <td>N</td>\n",
       "      <td>...</td>\n",
       "      <td>medium</td>\n",
       "      <td>medium</td>\n",
       "      <td>642.70</td>\n",
       "      <td>211.37</td>\n",
       "      <td>40618.0</td>\n",
       "      <td>060 Morning Avenue</td>\n",
       "      <td>2016</td>\n",
       "      <td>New South Wales</td>\n",
       "      <td>Australia</td>\n",
       "      <td>10</td>\n",
       "    </tr>\n",
       "    <tr>\n",
       "      <th>4</th>\n",
       "      <td>1</td>\n",
       "      <td>Laraine</td>\n",
       "      <td>Medendorp</td>\n",
       "      <td>F</td>\n",
       "      <td>93</td>\n",
       "      <td>1953-10-12 00:00:00</td>\n",
       "      <td>Executive Secretary</td>\n",
       "      <td>Health</td>\n",
       "      <td>Mass Customer</td>\n",
       "      <td>N</td>\n",
       "      <td>...</td>\n",
       "      <td>medium</td>\n",
       "      <td>medium</td>\n",
       "      <td>1538.99</td>\n",
       "      <td>829.65</td>\n",
       "      <td>33552.0</td>\n",
       "      <td>060 Morning Avenue</td>\n",
       "      <td>2016</td>\n",
       "      <td>New South Wales</td>\n",
       "      <td>Australia</td>\n",
       "      <td>10</td>\n",
       "    </tr>\n",
       "  </tbody>\n",
       "</table>\n",
       "<p>5 rows × 29 columns</p>\n",
       "</div>"
      ],
      "text/plain": [
       "   customer_id first_name  last_name gender  \\\n",
       "0            1    Laraine  Medendorp      F   \n",
       "1            1    Laraine  Medendorp      F   \n",
       "2            1    Laraine  Medendorp      F   \n",
       "3            1    Laraine  Medendorp      F   \n",
       "4            1    Laraine  Medendorp      F   \n",
       "\n",
       "   past_3_years_bike_related_purchases                  DOB  \\\n",
       "0                                   93  1953-10-12 00:00:00   \n",
       "1                                   93  1953-10-12 00:00:00   \n",
       "2                                   93  1953-10-12 00:00:00   \n",
       "3                                   93  1953-10-12 00:00:00   \n",
       "4                                   93  1953-10-12 00:00:00   \n",
       "\n",
       "             job_title job_industry_category wealth_segment  \\\n",
       "0  Executive Secretary                Health  Mass Customer   \n",
       "1  Executive Secretary                Health  Mass Customer   \n",
       "2  Executive Secretary                Health  Mass Customer   \n",
       "3  Executive Secretary                Health  Mass Customer   \n",
       "4  Executive Secretary                Health  Mass Customer   \n",
       "\n",
       "  deceased_indicator  ... product_class  product_size  list_price  \\\n",
       "0                  N  ...        medium        medium      235.63   \n",
       "1                  N  ...        medium        medium      230.91   \n",
       "2                  N  ...        medium        medium      742.54   \n",
       "3                  N  ...        medium        medium      642.70   \n",
       "4                  N  ...        medium        medium     1538.99   \n",
       "\n",
       "   standard_cost product_first_sold_date             address postcode  \\\n",
       "0         125.07                 38482.0  060 Morning Avenue     2016   \n",
       "1         173.18                 37337.0  060 Morning Avenue     2016   \n",
       "2         667.40                 37838.0  060 Morning Avenue     2016   \n",
       "3         211.37                 40618.0  060 Morning Avenue     2016   \n",
       "4         829.65                 33552.0  060 Morning Avenue     2016   \n",
       "\n",
       "             state    country property_valuation  \n",
       "0  New South Wales  Australia                 10  \n",
       "1  New South Wales  Australia                 10  \n",
       "2  New South Wales  Australia                 10  \n",
       "3  New South Wales  Australia                 10  \n",
       "4  New South Wales  Australia                 10  \n",
       "\n",
       "[5 rows x 29 columns]"
      ]
     },
     "execution_count": 8,
     "metadata": {},
     "output_type": "execute_result"
    }
   ],
   "source": [
    "df_merged = pd.merge(customer_demographic_data, transactions_data, on='customer_id')\n",
    "df1= pd.merge(df_merged, customer_address_data, on='customer_id')\n",
    "df1.head(5)"
   ]
  },
  {
   "cell_type": "markdown",
   "id": "b4056327",
   "metadata": {},
   "source": [
    "### EXPLORATORY DATA ANALYSIS ON THE NEW DATA"
   ]
  },
  {
   "cell_type": "code",
   "execution_count": 10,
   "id": "124fddbe",
   "metadata": {},
   "outputs": [
    {
     "data": {
      "text/plain": [
       "(19968, 29)"
      ]
     },
     "execution_count": 10,
     "metadata": {},
     "output_type": "execute_result"
    }
   ],
   "source": [
    "df1.shape"
   ]
  },
  {
   "cell_type": "markdown",
   "id": "88d9cb75",
   "metadata": {},
   "source": [
    "### DATA CLEANING ACTIVITIES\n",
    "\n",
    "1. All records with missing value are removed from the data.\n",
    "2. The gender column is formated to make the gender types consistent throughout\n",
    "3. The DOB column is formatted.\n",
    "\n",
    "### FEATURE ENGINEERING PERFORMED\n",
    "1. Transforming the age group in to young, middle-age and old\n"
   ]
  },
  {
   "cell_type": "code",
   "execution_count": 11,
   "id": "32e57641",
   "metadata": {},
   "outputs": [],
   "source": [
    "df1[\"DOB\"] = pd.to_datetime(df1[\"DOB\"])\n",
    "\n",
    "reference_date = pd.Timestamp('2021-01-01')\n",
    "\n",
    "# Calculate the age in days from the reference date\n",
    "df1[\"age_days\"] = (reference_date - df1[\"DOB\"]).dt.days\n",
    "\n",
    "bins = np.linspace(min(df1[\"age_days\"]), max(df1[\"age_days\"]), 4)\n",
    "group_names = [\"young\", \"middle_age\", \"old\"]\n",
    "\n",
    "# Cut the data into age categories\n",
    "df1[\"age_category\"] = pd.cut(df1[\"age_days\"], bins, labels=group_names, include_lowest=True)\n",
    "\n",
    "df1[\"age_category\"] = df1[\"age_category\"].astype(str)\n",
    "\n",
    "df1 = df1.drop(\"age_days\", axis=1)\n"
   ]
  },
  {
   "cell_type": "markdown",
   "id": "b58f9ed2",
   "metadata": {},
   "source": [
    "Task:\n",
    "\n",
    "1. Customers will be classified based on their wealth segment using certain characteristics from the data.\n",
    "2. Columns that are not required will be dropped from the dataset prior to data cleaning."
   ]
  },
  {
   "cell_type": "code",
   "execution_count": 12,
   "id": "eb91031a",
   "metadata": {},
   "outputs": [
    {
     "data": {
      "text/plain": [
       "Index(['customer_id', 'first_name', 'last_name', 'gender',\n",
       "       'past_3_years_bike_related_purchases', 'DOB', 'job_title',\n",
       "       'job_industry_category', 'wealth_segment', 'deceased_indicator',\n",
       "       'owns_car', 'tenure', 'transaction_id', 'product_id',\n",
       "       'transaction_date', 'online_order', 'order_status', 'brand',\n",
       "       'product_line', 'product_class', 'product_size', 'list_price',\n",
       "       'standard_cost', 'product_first_sold_date', 'address', 'postcode',\n",
       "       'state', 'country', 'property_valuation', 'age_category'],\n",
       "      dtype='object')"
      ]
     },
     "execution_count": 12,
     "metadata": {},
     "output_type": "execute_result"
    }
   ],
   "source": [
    "df1.columns"
   ]
  },
  {
   "cell_type": "code",
   "execution_count": 13,
   "id": "4dd1c12d",
   "metadata": {},
   "outputs": [
    {
     "data": {
      "text/html": [
       "<div>\n",
       "<style scoped>\n",
       "    .dataframe tbody tr th:only-of-type {\n",
       "        vertical-align: middle;\n",
       "    }\n",
       "\n",
       "    .dataframe tbody tr th {\n",
       "        vertical-align: top;\n",
       "    }\n",
       "\n",
       "    .dataframe thead th {\n",
       "        text-align: right;\n",
       "    }\n",
       "</style>\n",
       "<table border=\"1\" class=\"dataframe\">\n",
       "  <thead>\n",
       "    <tr style=\"text-align: right;\">\n",
       "      <th></th>\n",
       "      <th>job_industry_category</th>\n",
       "      <th>wealth_segment</th>\n",
       "      <th>owns_car</th>\n",
       "      <th>state</th>\n",
       "      <th>age_category</th>\n",
       "    </tr>\n",
       "  </thead>\n",
       "  <tbody>\n",
       "    <tr>\n",
       "      <th>0</th>\n",
       "      <td>Health</td>\n",
       "      <td>Mass Customer</td>\n",
       "      <td>Yes</td>\n",
       "      <td>New South Wales</td>\n",
       "      <td>young</td>\n",
       "    </tr>\n",
       "    <tr>\n",
       "      <th>1</th>\n",
       "      <td>Health</td>\n",
       "      <td>Mass Customer</td>\n",
       "      <td>Yes</td>\n",
       "      <td>New South Wales</td>\n",
       "      <td>young</td>\n",
       "    </tr>\n",
       "    <tr>\n",
       "      <th>2</th>\n",
       "      <td>Health</td>\n",
       "      <td>Mass Customer</td>\n",
       "      <td>Yes</td>\n",
       "      <td>New South Wales</td>\n",
       "      <td>young</td>\n",
       "    </tr>\n",
       "    <tr>\n",
       "      <th>3</th>\n",
       "      <td>Health</td>\n",
       "      <td>Mass Customer</td>\n",
       "      <td>Yes</td>\n",
       "      <td>New South Wales</td>\n",
       "      <td>young</td>\n",
       "    </tr>\n",
       "    <tr>\n",
       "      <th>4</th>\n",
       "      <td>Health</td>\n",
       "      <td>Mass Customer</td>\n",
       "      <td>Yes</td>\n",
       "      <td>New South Wales</td>\n",
       "      <td>young</td>\n",
       "    </tr>\n",
       "    <tr>\n",
       "      <th>...</th>\n",
       "      <td>...</td>\n",
       "      <td>...</td>\n",
       "      <td>...</td>\n",
       "      <td>...</td>\n",
       "      <td>...</td>\n",
       "    </tr>\n",
       "    <tr>\n",
       "      <th>19963</th>\n",
       "      <td>Entertainment</td>\n",
       "      <td>Affluent Customer</td>\n",
       "      <td>No</td>\n",
       "      <td>NSW</td>\n",
       "      <td>young</td>\n",
       "    </tr>\n",
       "    <tr>\n",
       "      <th>19964</th>\n",
       "      <td>Entertainment</td>\n",
       "      <td>Affluent Customer</td>\n",
       "      <td>No</td>\n",
       "      <td>NSW</td>\n",
       "      <td>young</td>\n",
       "    </tr>\n",
       "    <tr>\n",
       "      <th>19965</th>\n",
       "      <td>Entertainment</td>\n",
       "      <td>Affluent Customer</td>\n",
       "      <td>No</td>\n",
       "      <td>NSW</td>\n",
       "      <td>young</td>\n",
       "    </tr>\n",
       "    <tr>\n",
       "      <th>19966</th>\n",
       "      <td>Entertainment</td>\n",
       "      <td>Affluent Customer</td>\n",
       "      <td>No</td>\n",
       "      <td>NSW</td>\n",
       "      <td>young</td>\n",
       "    </tr>\n",
       "    <tr>\n",
       "      <th>19967</th>\n",
       "      <td>Entertainment</td>\n",
       "      <td>Affluent Customer</td>\n",
       "      <td>No</td>\n",
       "      <td>NSW</td>\n",
       "      <td>young</td>\n",
       "    </tr>\n",
       "  </tbody>\n",
       "</table>\n",
       "<p>19968 rows × 5 columns</p>\n",
       "</div>"
      ],
      "text/plain": [
       "      job_industry_category     wealth_segment owns_car            state  \\\n",
       "0                    Health      Mass Customer      Yes  New South Wales   \n",
       "1                    Health      Mass Customer      Yes  New South Wales   \n",
       "2                    Health      Mass Customer      Yes  New South Wales   \n",
       "3                    Health      Mass Customer      Yes  New South Wales   \n",
       "4                    Health      Mass Customer      Yes  New South Wales   \n",
       "...                     ...                ...      ...              ...   \n",
       "19963         Entertainment  Affluent Customer       No              NSW   \n",
       "19964         Entertainment  Affluent Customer       No              NSW   \n",
       "19965         Entertainment  Affluent Customer       No              NSW   \n",
       "19966         Entertainment  Affluent Customer       No              NSW   \n",
       "19967         Entertainment  Affluent Customer       No              NSW   \n",
       "\n",
       "      age_category  \n",
       "0            young  \n",
       "1            young  \n",
       "2            young  \n",
       "3            young  \n",
       "4            young  \n",
       "...            ...  \n",
       "19963        young  \n",
       "19964        young  \n",
       "19965        young  \n",
       "19966        young  \n",
       "19967        young  \n",
       "\n",
       "[19968 rows x 5 columns]"
      ]
     },
     "execution_count": 13,
     "metadata": {},
     "output_type": "execute_result"
    }
   ],
   "source": [
    "df2=df1.drop(['customer_id', 'first_name', 'last_name', 'gender',\n",
    "       'past_3_years_bike_related_purchases', 'DOB', 'job_title', 'deceased_indicator',\n",
    "       'tenure', 'transaction_id', 'product_id',\n",
    "       'transaction_date', 'online_order', 'order_status', 'brand',\n",
    "       'product_line', 'product_class', 'product_size', 'list_price',\n",
    "       'standard_cost', 'product_first_sold_date', 'address', 'postcode',\n",
    "       'country', 'property_valuation'], axis=\"columns\")\n",
    "\n",
    "df2"
   ]
  },
  {
   "cell_type": "code",
   "execution_count": 14,
   "id": "44938dc5",
   "metadata": {},
   "outputs": [],
   "source": [
    "df2.dropna(how = \"any\", inplace=True)"
   ]
  },
  {
   "cell_type": "code",
   "execution_count": 15,
   "id": "aa4b15bc",
   "metadata": {},
   "outputs": [
    {
     "data": {
      "text/plain": [
       "(16746, 5)"
      ]
     },
     "execution_count": 15,
     "metadata": {},
     "output_type": "execute_result"
    }
   ],
   "source": [
    "df2.shape"
   ]
  },
  {
   "cell_type": "code",
   "execution_count": 16,
   "id": "8a07ff19",
   "metadata": {},
   "outputs": [
    {
     "data": {
      "text/plain": [
       "array(['Health', 'Financial Services', 'IT', 'Retail', 'Argiculture',\n",
       "       'Property', 'Manufacturing', 'Telecommunications', 'Entertainment'],\n",
       "      dtype=object)"
      ]
     },
     "execution_count": 16,
     "metadata": {},
     "output_type": "execute_result"
    }
   ],
   "source": [
    "df2[\"job_industry_category\"].unique()"
   ]
  },
  {
   "cell_type": "code",
   "execution_count": 17,
   "id": "325448ae",
   "metadata": {},
   "outputs": [
    {
     "data": {
      "text/plain": [
       "array(['New South Wales', 'QLD', 'VIC', 'NSW', 'Victoria'], dtype=object)"
      ]
     },
     "execution_count": 17,
     "metadata": {},
     "output_type": "execute_result"
    }
   ],
   "source": [
    "df2[\"state\"].unique()"
   ]
  },
  {
   "cell_type": "code",
   "execution_count": 18,
   "id": "0f159707",
   "metadata": {},
   "outputs": [],
   "source": [
    "df2[\"state\"].replace('New South Wales', 'NSW' ,inplace=True)\n",
    "df2[\"state\"].replace('Victoria', 'VIC', inplace=True)"
   ]
  },
  {
   "cell_type": "code",
   "execution_count": 29,
   "id": "76bb322d",
   "metadata": {},
   "outputs": [
    {
     "name": "stdout",
     "output_type": "stream",
     "text": [
      "<class 'pandas.core.frame.DataFrame'>\n",
      "Int64Index: 16746 entries, 0 to 19967\n",
      "Data columns (total 16 columns):\n",
      " #   Column                                    Non-Null Count  Dtype\n",
      "---  ------                                    --------------  -----\n",
      " 0   job_industry_category_Argiculture         16746 non-null  uint8\n",
      " 1   job_industry_category_Entertainment       16746 non-null  uint8\n",
      " 2   job_industry_category_Financial Services  16746 non-null  uint8\n",
      " 3   job_industry_category_Health              16746 non-null  uint8\n",
      " 4   job_industry_category_IT                  16746 non-null  uint8\n",
      " 5   job_industry_category_Manufacturing       16746 non-null  uint8\n",
      " 6   job_industry_category_Property            16746 non-null  uint8\n",
      " 7   job_industry_category_Retail              16746 non-null  uint8\n",
      " 8   job_industry_category_Telecommunications  16746 non-null  uint8\n",
      " 9   state_NSW                                 16746 non-null  uint8\n",
      " 10  state_QLD                                 16746 non-null  uint8\n",
      " 11  state_VIC                                 16746 non-null  uint8\n",
      " 12  age_category_middle_age                   16746 non-null  uint8\n",
      " 13  age_category_nan                          16746 non-null  uint8\n",
      " 14  age_category_old                          16746 non-null  uint8\n",
      " 15  age_category_young                        16746 non-null  uint8\n",
      "dtypes: uint8(16)\n",
      "memory usage: 392.5 KB\n"
     ]
    }
   ],
   "source": [
    "\n",
    "x = pd.get_dummies(df2[['job_industry_category','state','age_category']])\n",
    "x.info()"
   ]
  },
  {
   "cell_type": "code",
   "execution_count": 24,
   "id": "2542c29c",
   "metadata": {},
   "outputs": [
    {
     "name": "stdout",
     "output_type": "stream",
     "text": [
      "<class 'pandas.core.frame.DataFrame'>\n",
      "Int64Index: 16746 entries, 0 to 19967\n",
      "Data columns (total 3 columns):\n",
      " #   Column                            Non-Null Count  Dtype\n",
      "---  ------                            --------------  -----\n",
      " 0   wealth_segment_Affluent Customer  16746 non-null  uint8\n",
      " 1   wealth_segment_High Net Worth     16746 non-null  uint8\n",
      " 2   wealth_segment_Mass Customer      16746 non-null  uint8\n",
      "dtypes: uint8(3)\n",
      "memory usage: 179.9 KB\n"
     ]
    }
   ],
   "source": [
    "y = pd.get_dummies(df2[[\"wealth_segment\"]])\n",
    "y.info()"
   ]
  },
  {
   "cell_type": "markdown",
   "id": "25fbbf23",
   "metadata": {},
   "source": [
    "### Hypothesis: A multinomial NB model will be appropriate for the prediction of this data\n",
    "\n",
    "## MODEL BUILDING"
   ]
  },
  {
   "cell_type": "code",
   "execution_count": 31,
   "id": "dfdc6492",
   "metadata": {},
   "outputs": [
    {
     "name": "stdout",
     "output_type": "stream",
     "text": [
      "Accuracy: 0.5029854310962503\n"
     ]
    }
   ],
   "source": [
    "from sklearn.naive_bayes import MultinomialNB\n",
    "from sklearn.model_selection import train_test_split\n",
    "from sklearn.metrics import accuracy_score\n",
    "import pandas as pd\n",
    "\n",
    "# Assuming you have x and y defined\n",
    "# Split your data into training and testing sets\n",
    "x_train, x_test, y_train, y_test = train_test_split(x, y, test_size=0.25, random_state=42)\n",
    "\n",
    "# Convert one-hot encoded y_train to 1D array\n",
    "y_train_single = y_train.idxmax(axis=1)\n",
    "\n",
    "# Define and train your Multinomial Naive Bayes model\n",
    "classifier = MultinomialNB()\n",
    "classifier.fit(x_train, y_train_single)\n",
    "\n",
    "# Make predictions on the test set\n",
    "y_pred = classifier.predict(x_test)\n",
    "\n",
    "# Evaluate the accuracy of the model\n",
    "accuracy = accuracy_score(y_test.idxmax(axis=1), y_pred)\n",
    "print(\"Accuracy:\", accuracy)"
   ]
  },
  {
   "cell_type": "code",
   "execution_count": null,
   "id": "bdef12ee",
   "metadata": {},
   "outputs": [],
   "source": []
  }
 ],
 "metadata": {
  "kernelspec": {
   "display_name": "Python 3 (ipykernel)",
   "language": "python",
   "name": "python3"
  },
  "language_info": {
   "codemirror_mode": {
    "name": "ipython",
    "version": 3
   },
   "file_extension": ".py",
   "mimetype": "text/x-python",
   "name": "python",
   "nbconvert_exporter": "python",
   "pygments_lexer": "ipython3",
   "version": "3.11.4"
  }
 },
 "nbformat": 4,
 "nbformat_minor": 5
}
